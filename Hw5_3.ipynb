{
  "nbformat": 4,
  "nbformat_minor": 0,
  "metadata": {
    "colab": {
      "provenance": [],
      "authorship_tag": "ABX9TyMV0+ls04Vet7s4fvGqDmEq",
      "include_colab_link": true
    },
    "kernelspec": {
      "name": "python3",
      "display_name": "Python 3"
    },
    "language_info": {
      "name": "python"
    }
  },
  "cells": [
    {
      "cell_type": "markdown",
      "metadata": {
        "id": "view-in-github",
        "colab_type": "text"
      },
      "source": [
        "<a href=\"https://colab.research.google.com/github/OlhaYastrebova/goit-ds-hw/blob/main/Hw5_3.ipynb\" target=\"_parent\"><img src=\"https://colab.research.google.com/assets/colab-badge.svg\" alt=\"Open In Colab\"/></a>"
      ]
    },
    {
      "cell_type": "markdown",
      "source": [
        "Прочитайте csv файл (використовуйте функцію read_csv)\n",
        "Виведіть перші п'ять рядків (використовується функція head)\n",
        "Виведіть розміри датасету (використовуйте атрибут shape)"
      ],
      "metadata": {
        "id": "Mqc7P8EJZ1bS"
      }
    },
    {
      "cell_type": "code",
      "execution_count": 1,
      "metadata": {
        "colab": {
          "base_uri": "https://localhost:8080/"
        },
        "id": "V1yWn4msX81h",
        "outputId": "fc48d297-30f9-40b5-f8c7-a18d26f0d4e3"
      },
      "outputs": [
        {
          "output_type": "stream",
          "name": "stdout",
          "text": [
            "                                                Name  \\\n",
            "0                      10-Day Green Smoothie Cleanse   \n",
            "1                                  11/22/63: A Novel   \n",
            "2            12 Rules for Life: An Antidote to Chaos   \n",
            "3                             1984 (Signet Classics)   \n",
            "4  5,000 Awesome Facts (About Everything!) (Natio...   \n",
            "\n",
            "                     Author  User Rating  Reviews  Price  Year        Genre  \n",
            "0                  JJ Smith          4.7    17350      8  2016  Non Fiction  \n",
            "1              Stephen King          4.6     2052     22  2011      Fiction  \n",
            "2        Jordan B. Peterson          4.7    18979     15  2018  Non Fiction  \n",
            "3             George Orwell          4.7    21424      6  2017      Fiction  \n",
            "4  National Geographic Kids          4.8     7665     12  2019  Non Fiction  \n",
            "(550, 7)\n"
          ]
        }
      ],
      "source": [
        "import pandas as pd\n",
        "\n",
        "# Прочитати CSV файл\n",
        "df = pd.read_csv('/content/bestsellers with categories.csv')\n",
        "\n",
        "# Вивести перші п'ять рядків\n",
        "print(df.head())\n",
        "\n",
        "# Вивести розміри датасету\n",
        "print(df.shape)\n"
      ]
    },
    {
      "cell_type": "markdown",
      "source": [
        "Відповідь: Про скільки книг зберігає дані датасет?\n",
        "550"
      ],
      "metadata": {
        "id": "qf_NloU9aWsP"
      }
    },
    {
      "cell_type": "markdown",
      "source": [],
      "metadata": {
        "id": "EhqEDKOOapkp"
      }
    },
    {
      "cell_type": "code",
      "source": [
        "df.columns = ['name', 'author', 'user_rating', 'reviews', 'price', 'year', 'genre']\n"
      ],
      "metadata": {
        "id": "6ivR4CK4a7Y2"
      },
      "execution_count": 2,
      "outputs": []
    },
    {
      "cell_type": "markdown",
      "source": [
        "Перевірте, чи у всіх рядків вистачає даних: виведіть кількість пропусків (na) у кожному зі стовпців (використовуйте функції isna та sum)"
      ],
      "metadata": {
        "id": "lxB0xbjkbFd7"
      }
    },
    {
      "cell_type": "code",
      "source": [
        "# Перевірити кількість пропусків у кожному стовпці\n",
        "missing_values = df.isna().sum()\n",
        "\n",
        "print(missing_values)\n"
      ],
      "metadata": {
        "colab": {
          "base_uri": "https://localhost:8080/"
        },
        "id": "Nvc65ynabHBZ",
        "outputId": "a1f7530d-256c-43ff-bfcd-2d33841377cb"
      },
      "execution_count": 3,
      "outputs": [
        {
          "output_type": "stream",
          "name": "stdout",
          "text": [
            "name           0\n",
            "author         0\n",
            "user_rating    0\n",
            "reviews        0\n",
            "price          0\n",
            "year           0\n",
            "genre          0\n",
            "dtype: int64\n"
          ]
        }
      ]
    },
    {
      "cell_type": "markdown",
      "source": [
        "Відповідь: Чи є в якихось змінних пропуски? (Так / ні)\n",
        "ні"
      ],
      "metadata": {
        "id": "K2pZfZx9bVsK"
      }
    },
    {
      "cell_type": "markdown",
      "source": [
        "ревірте, які є унікальні значення в колонці genre (використовуйте функцію unique)\n",
        "Відповідь: Які є унікальні жанри?"
      ],
      "metadata": {
        "id": "2EtfxS_XbiS6"
      }
    },
    {
      "cell_type": "code",
      "source": [
        "# Отримати унікальні значення в колонці 'genre'\n",
        "unique_genres = df['genre'].unique()\n",
        "\n",
        "print(unique_genres)"
      ],
      "metadata": {
        "colab": {
          "base_uri": "https://localhost:8080/"
        },
        "id": "rCgCtYF3bm7F",
        "outputId": "1c16e9cf-b552-4aa6-a4b7-4a080326ff42"
      },
      "execution_count": 4,
      "outputs": [
        {
          "output_type": "stream",
          "name": "stdout",
          "text": [
            "['Non Fiction' 'Fiction']\n"
          ]
        }
      ]
    },
    {
      "cell_type": "markdown",
      "source": [
        "Тепер подивіться на розподіл цін: побудуйте діаграму (використовуйте kind='hist')"
      ],
      "metadata": {
        "id": "adyzx_k9bw1y"
      }
    },
    {
      "cell_type": "code",
      "source": [
        "import matplotlib.pyplot as plt\n",
        "# Побудувати гістограму розподілу цін\n",
        "df['price'].plot(kind='hist', bins=30, edgecolor='black')\n",
        "\n",
        "    # Додати заголовок і мітки осей\n",
        "plt.title('Розподіл цін')\n",
        "plt.xlabel('Ціна')\n",
        "plt.ylabel('Кількість книг')"
      ],
      "metadata": {
        "colab": {
          "base_uri": "https://localhost:8080/",
          "height": 489
        },
        "id": "xHsvPp_tbyFz",
        "outputId": "fdc516e7-8f8d-47e3-ac8f-ba5edf7a9a57"
      },
      "execution_count": 8,
      "outputs": [
        {
          "output_type": "execute_result",
          "data": {
            "text/plain": [
              "Text(0, 0.5, 'Кількість книг')"
            ]
          },
          "metadata": {},
          "execution_count": 8
        },
        {
          "output_type": "display_data",
          "data": {
            "text/plain": [
              "<Figure size 640x480 with 1 Axes>"
            ],
            "image/png": "[encoded data removed]"
          },
          "metadata": {}
        }
      ]
    },
    {
      "cell_type": "markdown",
      "source": [
        "Визначте, яка ціна у нас максимальна, мінімальна, середня, медіанна (використовуйте функції max, min, mean, median)\n",
        "Відповідь: Максимальна ціна?\n",
        "Відповідь: Мінімальна ціна?\n",
        "Відповідь: Середня ціна?\n",
        "Відповідь: Медіанна ціна?"
      ],
      "metadata": {
        "id": "z6NmtJv_c1NQ"
      }
    },
    {
      "cell_type": "code",
      "source": [
        " # Розрахувати максимальну, мінімальну, середню та медіанну ціну\n",
        "max_price = df['price'].max()\n",
        "min_price = df['price'].min()\n",
        "mean_price = df['price'].mean()\n",
        "median_price = df['price'].median()\n",
        "\n",
        " # Вивести результати\n",
        "print(f\"Максимальна ціна: {max_price}\")\n",
        "print(f\"Мінімальна ціна: {min_price}\")\n",
        "print(f\"Середня ціна: {mean_price}\")\n",
        "print(f\"Медіанна ціна: {median_price}\")"
      ],
      "metadata": {
        "colab": {
          "base_uri": "https://localhost:8080/"
        },
        "id": "2Nk3Oxnqc2ez",
        "outputId": "d0b4b9ca-e268-4e6d-f6a5-be1bbc2125af"
      },
      "execution_count": 9,
      "outputs": [
        {
          "output_type": "stream",
          "name": "stdout",
          "text": [
            "Максимальна ціна: 105\n",
            "Мінімальна ціна: 0\n",
            "Середня ціна: 13.1\n",
            "Медіанна ціна: 11.0\n"
          ]
        }
      ]
    },
    {
      "cell_type": "markdown",
      "source": [
        "Відповідь: Який рейтинг у датасеті найвищий?"
      ],
      "metadata": {
        "id": "U11hVKyjdTtG"
      }
    },
    {
      "cell_type": "code",
      "source": [
        "highest_rating = df['user_rating'].max()\n",
        "\n",
        "print(f\"Найвищий рейтинг: {highest_rating}\")"
      ],
      "metadata": {
        "colab": {
          "base_uri": "https://localhost:8080/"
        },
        "id": "s1CbxGB6db1e",
        "outputId": "1e881808-ae03-4fe1-cc52-fb1bb4f64af4"
      },
      "execution_count": 11,
      "outputs": [
        {
          "output_type": "stream",
          "name": "stdout",
          "text": [
            "Найвищий рейтинг: 4.9\n"
          ]
        }
      ]
    },
    {
      "cell_type": "markdown",
      "source": [
        "Відповідь: Скільки книг мають такий рейтинг?"
      ],
      "metadata": {
        "id": "AYt0SAF0d1QW"
      }
    },
    {
      "cell_type": "code",
      "source": [
        "count_highest_rating = df[df['user_rating'] == highest_rating].shape[0]\n",
        "\n",
        "print(f\"Кількість книг з найвищим рейтингом ({highest_rating}): {count_highest_rating}\")"
      ],
      "metadata": {
        "colab": {
          "base_uri": "https://localhost:8080/"
        },
        "id": "pgckMlTEd2gC",
        "outputId": "2fa606b5-cffb-40b5-c8bd-5769f66045d9"
      },
      "execution_count": 12,
      "outputs": [
        {
          "output_type": "stream",
          "name": "stdout",
          "text": [
            "Кількість книг з найвищим рейтингом (4.9): 52\n"
          ]
        }
      ]
    },
    {
      "cell_type": "markdown",
      "source": [
        "Відповідь: Яка книга має найбільше відгуків?"
      ],
      "metadata": {
        "id": "nZ8I9zuZeOdf"
      }
    },
    {
      "cell_type": "code",
      "source": [
        "# Знайти книгу з найбільшою кількістю відгуків\n",
        "book_with_most_reviews = df.loc[df['reviews'].idxmax()]\n",
        "\n",
        "# Вивести інформацію про цю книгу\n",
        "print(f\"Книга з найбільшою кількістю відгуків:\")\n",
        "print(f\"Назва: {book_with_most_reviews['name']}\")\n",
        "print(f\"Автор: {book_with_most_reviews['author']}\")\n",
        "print(f\"Кількість відгуків: {book_with_most_reviews['reviews']}\")"
      ],
      "metadata": {
        "colab": {
          "base_uri": "https://localhost:8080/"
        },
        "id": "cLW-mUAeeUAl",
        "outputId": "cc477a44-86d6-4973-efec-e84b18815090"
      },
      "execution_count": 14,
      "outputs": [
        {
          "output_type": "stream",
          "name": "stdout",
          "text": [
            "Книга з найбільшою кількістю відгуків:\n",
            "Назва: Where the Crawdads Sing\n",
            "Автор: Delia Owens\n",
            "Кількість відгуків: 87841\n"
          ]
        }
      ]
    },
    {
      "cell_type": "markdown",
      "source": [
        "Відповідь: З тих книг, що потрапили до Топ-50 у 2015 році, яка книга найдорожча (можна використати проміжний датафрейм)?"
      ],
      "metadata": {
        "id": "J4mXo1q9e2G2"
      }
    },
    {
      "cell_type": "code",
      "source": [
        "# Фільтрувати книги, що потрапили до Топ-50 у 2015 році\n",
        "top_50_2015 = df[(df['year'] == 2015)]\n",
        "\n",
        "    # Знайти найдорожчу книгу серед цих книг\n",
        "most_expensive_book = top_50_2015.loc[top_50_2015['price'].idxmax()]\n",
        "\n",
        "    # Вивести інформацію про найдорожчу книгу\n",
        "print(f\"Найдорожча книга серед Топ-50 у 2015 році:\")\n",
        "print(f\"Назва: {most_expensive_book['name']}\")\n",
        "print(f\"Автор: {most_expensive_book['author']}\")\n",
        "print(f\"Ціна: {most_expensive_book['price']}\")"
      ],
      "metadata": {
        "colab": {
          "base_uri": "https://localhost:8080/"
        },
        "id": "izP5rs0OfEdz",
        "outputId": "f40a65d4-ba29-47e9-e103-ed786f632b5b"
      },
      "execution_count": 18,
      "outputs": [
        {
          "output_type": "stream",
          "name": "stdout",
          "text": [
            "Найдорожча книга серед Топ-50 у 2015 році:\n",
            "Назва: Publication Manual of the American Psychological Association, 6th Edition\n",
            "Автор: American Psychological Association\n",
            "Ціна: 46\n"
          ]
        }
      ]
    },
    {
      "cell_type": "markdown",
      "source": [
        "Відповідь: Скільки книг жанру Fiction потрапили до Топ-50 у 2010 році (використовуйте &)?"
      ],
      "metadata": {
        "id": "AnjXWvzdgH1w"
      }
    },
    {
      "cell_type": "code",
      "source": [
        "# Фільтрувати книги жанру Fiction, що потрапили до Топ-50 у 2010 році\n",
        "fiction_top_50_2010 = df[(df['year'] == 2010) & (df['genre'] == 'Fiction')]\n",
        "\n",
        "# Підрахувати кількість таких книг\n",
        "count_fiction_books = fiction_top_50_2010.shape[0]\n",
        "\n",
        "print(f\"Кількість книг жанру Fiction, що потрапили до Топ-50 у 2010 році: {count_fiction_books}\")"
      ],
      "metadata": {
        "colab": {
          "base_uri": "https://localhost:8080/"
        },
        "id": "A9VJmD6_gI9t",
        "outputId": "a75727c0-5d61-4d19-b28e-fde354b32a8d"
      },
      "execution_count": 19,
      "outputs": [
        {
          "output_type": "stream",
          "name": "stdout",
          "text": [
            "Кількість книг жанру Fiction, що потрапили до Топ-50 у 2010 році: 20\n"
          ]
        }
      ]
    },
    {
      "cell_type": "markdown",
      "source": [
        "Відповідь: Скільки книг з рейтингом 4.9 потрапило до рейтингу у 2010 та 2011 роках (використовуйте | або функцію isin)?"
      ],
      "metadata": {
        "id": "EjGDGhtFgomU"
      }
    },
    {
      "cell_type": "code",
      "source": [
        "# Фільтрувати книги з рейтингом 4.9 у 2010 та 2011 роках\n",
        "books_4_9_2010_2011 = df[(df['user_rating'] == 4.9) & (df['year'].isin([2010, 2011]))]\n",
        "\n",
        "# Підрахувати кількість таких книг\n",
        "count_books_4_9 = books_4_9_2010_2011.shape[0]\n",
        "\n",
        "print(f\"Кількість книг з рейтингом 4.9, що потрапило до рейтингу у 2010 та 2011 роках: {count_books_4_9}\")"
      ],
      "metadata": {
        "colab": {
          "base_uri": "https://localhost:8080/"
        },
        "id": "BIN2hbAZgtcr",
        "outputId": "5d3ae870-2ce1-4a97-9e31-1445d3ebcef3"
      },
      "execution_count": 20,
      "outputs": [
        {
          "output_type": "stream",
          "name": "stdout",
          "text": [
            "Кількість книг з рейтингом 4.9, що потрапило до рейтингу у 2010 та 2011 роках: 1\n"
          ]
        }
      ]
    },
    {
      "cell_type": "markdown",
      "source": [
        "І насамкінець, давайте відсортуємо за зростанням ціни всі книги, які потрапили до рейтингу в 2015 році і коштують дешевше за 8 доларів (використовуйте функцію sort_values).\n",
        "Відповідь: Яка книга остання у відсортованому списку?"
      ],
      "metadata": {
        "id": "d2mUK2yUhGkm"
      }
    },
    {
      "cell_type": "code",
      "source": [
        "# Фільтрувати книги, що потрапили до рейтингу в 2015 році і коштують дешевше за 8 доларів\n",
        "books_2015_under_8 = df[(df['year'] == 2015) & (df['price'] < 8)]\n",
        "\n",
        "    # Відсортувати книги за зростанням ціни\n",
        "sorted_books = books_2015_under_8.sort_values(by='price')\n",
        "\n",
        "    # Знайти останню книгу у відсортованому списку\n",
        "last_book = sorted_books.iloc[-1]\n",
        "\n",
        "    # Вивести інформацію про останню книгу\n",
        "print(f\"Остання книга у відсортованому списку:\")\n",
        "print(f\"Назва: {last_book['name']}\")\n",
        "print(f\"Автор: {last_book['author']}\")\n",
        "print(f\"Ціна: {last_book['price']}\")"
      ],
      "metadata": {
        "colab": {
          "base_uri": "https://localhost:8080/"
        },
        "id": "v_2VAZDchOcB",
        "outputId": "9f76567f-fd24-42e0-c264-5771db70d7dd"
      },
      "execution_count": 21,
      "outputs": [
        {
          "output_type": "stream",
          "name": "stdout",
          "text": [
            "Остання книга у відсортованому списку:\n",
            "Назва: Old School (Diary of a Wimpy Kid #10)\n",
            "Автор: Jeff Kinney\n",
            "Ціна: 7\n"
          ]
        }
      ]
    }
  ]
}