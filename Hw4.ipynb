{
  "nbformat": 4,
  "nbformat_minor": 0,
  "metadata": {
    "colab": {
      "provenance": [],
      "authorship_tag": "ABX9TyOLlclD4VPXQo7zaB74n3U5",
      "include_colab_link": true
    },
    "kernelspec": {
      "name": "python3",
      "display_name": "Python 3"
    },
    "language_info": {
      "name": "python"
    }
  },
  "cells": [
    {
      "cell_type": "markdown",
      "metadata": {
        "id": "view-in-github",
        "colab_type": "text"
      },
      "source": [
        "<a href=\"https://colab.research.google.com/github/OlhaYastrebova/goit-ds-hw/blob/main/Hw4.ipynb\" target=\"_parent\"><img src=\"https://colab.research.google.com/assets/colab-badge.svg\" alt=\"Open In Colab\"/></a>"
      ]
    },
    {
      "cell_type": "code",
      "execution_count": 1,
      "metadata": {
        "colab": {
          "base_uri": "https://localhost:8080/"
        },
        "id": "_PQVrXmro_i8",
        "outputId": "d9e70155-d3f1-4d05-b04c-fd1d53fcb84d"
      },
      "outputs": [
        {
          "output_type": "stream",
          "name": "stdout",
          "text": [
            "Requirement already satisfied: numpy in /usr/local/lib/python3.10/dist-packages (1.26.4)\n"
          ]
        }
      ],
      "source": [
        "pip install numpy\n"
      ]
    },
    {
      "cell_type": "code",
      "source": [],
      "metadata": {
        "id": "iekciwd9qnQi"
      },
      "execution_count": null,
      "outputs": []
    },
    {
      "cell_type": "code",
      "source": [
        "import numpy as np\n",
        "\n"
      ],
      "metadata": {
        "id": "d4hLqcfWqnUW"
      },
      "execution_count": 2,
      "outputs": []
    },
    {
      "cell_type": "code",
      "source": [
        "import numpy as np\n",
        "\n",
        "# Створення одновимірного масиву з першими 10-ма натуральними числами\n",
        "vector = np.arange(1, 11)\n",
        "\n",
        "# Виведення значення масиву\n",
        "print(vector)\n"
      ],
      "metadata": {
        "colab": {
          "base_uri": "https://localhost:8080/"
        },
        "id": "NVJf73pZq30a",
        "outputId": "e46f9d47-bd53-41c0-ebab-791dca2a8c37"
      },
      "execution_count": 3,
      "outputs": [
        {
          "output_type": "stream",
          "name": "stdout",
          "text": [
            "[ 1  2  3  4  5  6  7  8  9 10]\n"
          ]
        }
      ]
    },
    {
      "cell_type": "code",
      "source": [
        "import numpy as np\n",
        "\n",
        "# Створення двовимірного масиву (матриці) розміром 3x3, заповненого нулями\n",
        "matrix = np.zeros((3, 3))\n",
        "\n",
        "# Виведення значення матриці\n",
        "print(matrix)\n"
      ],
      "metadata": {
        "colab": {
          "base_uri": "https://localhost:8080/"
        },
        "id": "7q6rU8vgsL7h",
        "outputId": "4b6c84cf-b7ef-4730-8d56-527ad74d51d0"
      },
      "execution_count": 4,
      "outputs": [
        {
          "output_type": "stream",
          "name": "stdout",
          "text": [
            "[[0. 0. 0.]\n",
            " [0. 0. 0.]\n",
            " [0. 0. 0.]]\n"
          ]
        }
      ]
    },
    {
      "cell_type": "code",
      "source": [
        "import numpy as np\n",
        "\n",
        "# Створення масиву розміром 5x5, заповненого випадковими цілими числами в діапазоні від 1 до 10\n",
        "matrix = np.random.randint(1, 11, size=(5, 5))\n",
        "\n",
        "# Виведення значення масиву\n",
        "print(matrix)\n"
      ],
      "metadata": {
        "colab": {
          "base_uri": "https://localhost:8080/"
        },
        "id": "ONC3zitcsVAG",
        "outputId": "4f099589-e94e-4aea-9052-5a5111a39cd5"
      },
      "execution_count": 5,
      "outputs": [
        {
          "output_type": "stream",
          "name": "stdout",
          "text": [
            "[[ 8 10  2  9  3]\n",
            " [ 4  9 10  3  9]\n",
            " [ 3  1 10  6  7]\n",
            " [ 4  7  2  8 10]\n",
            " [ 6  3 10  7  5]]\n"
          ]
        }
      ]
    },
    {
      "cell_type": "code",
      "source": [
        "import numpy as np\n",
        "\n",
        "# Створення масиву розміром 4x4, заповненого випадковими дійсними числами в діапазоні від 0 до 1\n",
        "matrix = np.random.random((4, 4))\n",
        "\n",
        "# Виведення значення масиву\n",
        "print(matrix)\n"
      ],
      "metadata": {
        "colab": {
          "base_uri": "https://localhost:8080/"
        },
        "id": "CPvlV7zbs05Y",
        "outputId": "f7c0aa1f-061f-412c-89c6-597f616c12a4"
      },
      "execution_count": 9,
      "outputs": [
        {
          "output_type": "stream",
          "name": "stdout",
          "text": [
            "[[0.57374273 0.83816911 0.74916217 0.44698156]\n",
            " [0.89696281 0.28694238 0.48545014 0.12970002]\n",
            " [0.60823029 0.46400965 0.71800198 0.84208207]\n",
            " [0.09568761 0.36697105 0.45285281 0.06924861]]\n"
          ]
        }
      ]
    },
    {
      "cell_type": "code",
      "source": [],
      "metadata": {
        "id": "Sxrj3m95vwAZ"
      },
      "execution_count": null,
      "outputs": []
    },
    {
      "cell_type": "code",
      "source": [
        "import numpy as np\n",
        "\n",
        "# Створення двох одновимірних масивів розміром 5, заповнених випадковими цілими числами в діапазоні від 1 до 10\n",
        "array1 = np.random.randint(1, 11, size=5)\n",
        "array2 = np.random.randint(1, 11, size=5)\n",
        "\n",
        "# Поелементні операції додавання, віднімання та множення\n",
        "addition = array1 + array2\n",
        "subtraction = array1 - array2\n",
        "multiplication = array1 * array2\n",
        "\n",
        "# Виведення значень масивів та результатів операцій\n",
        "print(\"Array 1:\", array1)\n",
        "print(\"Array 2:\", array2)\n",
        "print(\"Addition:\", addition)\n",
        "print(\"Subtraction:\", subtraction)\n",
        "print(\"Multiplication:\", multiplication)\n"
      ],
      "metadata": {
        "colab": {
          "base_uri": "https://localhost:8080/"
        },
        "id": "PdS_QZxWtsLD",
        "outputId": "27c5b016-bcf0-41c9-9659-3dbb77372fbb"
      },
      "execution_count": 7,
      "outputs": [
        {
          "output_type": "stream",
          "name": "stdout",
          "text": [
            "Array 1: [1 8 2 4 2]\n",
            "Array 2: [3 1 9 7 2]\n",
            "Addition: [ 4  9 11 11  4]\n",
            "Subtraction: [-2  7 -7 -3  0]\n",
            "Multiplication: [ 3  8 18 28  4]\n"
          ]
        }
      ]
    },
    {
      "cell_type": "code",
      "source": [],
      "metadata": {
        "id": "yKN1aQwQwocz"
      },
      "execution_count": null,
      "outputs": []
    },
    {
      "cell_type": "code",
      "source": [
        "import numpy as np\n",
        "\n",
        "# Створення двох векторів розміром 7, заповнених довільними числами\n",
        "vector1 = np.random.rand(7)\n",
        "vector2 = np.random.rand(7)\n",
        "\n",
        "# Знаходження скалярного добутку\n",
        "dot_product = np.dot(vector1, vector2)\n",
        "\n",
        "# Виведення значень векторів та скалярного добутку\n",
        "print(\"Vector 1:\", vector1)\n",
        "print(\"Vector 2:\", vector2)\n",
        "print(\"Dot Product:\", dot_product)\n"
      ],
      "metadata": {
        "colab": {
          "base_uri": "https://localhost:8080/"
        },
        "id": "tXY2zIeLv3hk",
        "outputId": "6acd6ef5-dc1b-47af-f3d2-b539583cb695"
      },
      "execution_count": 10,
      "outputs": [
        {
          "output_type": "stream",
          "name": "stdout",
          "text": [
            "Vector 1: [0.30774988 0.47621161 0.06661705 0.907293   0.742245   0.57411846\n",
            " 0.04524875]\n",
            "Vector 2: [0.40343165 0.18472501 0.39038437 0.49409861 0.6454131  0.65518634\n",
            " 0.24167658]\n",
            "Dot Product: 1.5525674867523334\n"
          ]
        }
      ]
    },
    {
      "cell_type": "code",
      "source": [
        "import numpy as np\n",
        "\n",
        "# Створення матриці розміром 2x2 з випадковими цілими числами від 1 до 10\n",
        "matrix1 = np.random.randint(1, 11, size=(2, 2))\n",
        "\n",
        "# Створення матриці розміром 2x3 з випадковими цілими числами від 1 до 10\n",
        "matrix2 = np.random.randint(1, 11, size=(2, 3))\n",
        "\n",
        "# Перемноження матриць\n",
        "result = np.dot(matrix1, matrix2)\n",
        "\n",
        "print(\"Матриця 2x2:\")\n",
        "print(matrix1)\n",
        "print(\"\\nМатриця 2x3:\")\n",
        "print(matrix2)\n",
        "print(\"\\nРезультат множення:\")\n",
        "print(result)\n",
        "\n"
      ],
      "metadata": {
        "colab": {
          "base_uri": "https://localhost:8080/"
        },
        "id": "HpVnE-Kewrir",
        "outputId": "49dee542-7d20-4a2d-fbcc-e93d6dbd07b6"
      },
      "execution_count": 12,
      "outputs": [
        {
          "output_type": "stream",
          "name": "stdout",
          "text": [
            "Матриця 2x2:\n",
            "[[ 1 10]\n",
            " [ 9  4]]\n",
            "\n",
            "Матриця 2x3:\n",
            "[[2 6 5]\n",
            " [1 7 4]]\n",
            "\n",
            "Результат множення:\n",
            "[[12 76 45]\n",
            " [22 82 61]]\n"
          ]
        }
      ]
    },
    {
      "cell_type": "code",
      "source": [
        "import numpy as np\n",
        "\n",
        "# Створення матриці 3x3 з випадковими цілими числами від 1 до 10\n",
        "matrix = np.random.randint(1, 11, size=(3, 3))\n",
        "\n",
        "print(\"Матриця 3x3:\")\n",
        "print(matrix)\n",
        "\n",
        "# Перевірка, чи матриця є оберненою (детермінант не дорівнює нулю)\n",
        "if np.linalg.det(matrix) != 0:\n",
        "    # Знаходження оберненої матриці\n",
        "    inverse_matrix = np.linalg.inv(matrix)\n",
        "    print(\"\\nОбернена матриця:\")\n",
        "    print(inverse_matrix)\n",
        "else:\n",
        "    print(\"\\nМатриця не має оберненої матриці (детермінант дорівнює нулю).\")\n"
      ],
      "metadata": {
        "colab": {
          "base_uri": "https://localhost:8080/"
        },
        "id": "VZY8JQ_mzjSF",
        "outputId": "18ccd791-a244-423e-aa93-56d5581a06b8"
      },
      "execution_count": 13,
      "outputs": [
        {
          "output_type": "stream",
          "name": "stdout",
          "text": [
            "Матриця 3x3:\n",
            "[[ 9  6  7]\n",
            " [ 3  6  6]\n",
            " [ 9 10  8]]\n",
            "\n",
            "Обернена матриця:\n",
            "[[ 0.125      -0.22916667  0.0625    ]\n",
            " [-0.3125     -0.09375     0.34375   ]\n",
            " [ 0.25        0.375      -0.375     ]]\n"
          ]
        }
      ]
    },
    {
      "cell_type": "code",
      "source": [
        "import numpy as np\n",
        "\n",
        "# Створення матриці 4x4 з випадковими дійсними числами від 0 до 1\n",
        "matrix = np.random.rand(4, 4)\n",
        "\n",
        "print(\"Матриця 4x4:\")\n",
        "print(matrix)\n",
        "\n",
        "# Транспонування матриці\n",
        "transposed_matrix = matrix.T\n",
        "\n",
        "print(\"\\nТранспонована матриця:\")\n",
        "print(transposed_matrix)\n"
      ],
      "metadata": {
        "colab": {
          "base_uri": "https://localhost:8080/"
        },
        "id": "Lp0fEDov0Iep",
        "outputId": "6eeef4b7-2ee2-4c1a-a89a-e084b82900a5"
      },
      "execution_count": 14,
      "outputs": [
        {
          "output_type": "stream",
          "name": "stdout",
          "text": [
            "Матриця 4x4:\n",
            "[[0.40391671 0.43578661 0.98288639 0.25928276]\n",
            " [0.60870369 0.63045433 0.20391809 0.77474858]\n",
            " [0.33169391 0.53858508 0.08489552 0.56828191]\n",
            " [0.30648403 0.99411414 0.72937259 0.27182406]]\n",
            "\n",
            "Транспонована матриця:\n",
            "[[0.40391671 0.60870369 0.33169391 0.30648403]\n",
            " [0.43578661 0.63045433 0.53858508 0.99411414]\n",
            " [0.98288639 0.20391809 0.08489552 0.72937259]\n",
            " [0.25928276 0.77474858 0.56828191 0.27182406]]\n"
          ]
        }
      ]
    },
    {
      "cell_type": "code",
      "source": [
        "import numpy as np\n",
        "\n",
        "# Створення матриці 3x4 з випадковими цілими числами від 1 до 10\n",
        "matrix = np.random.randint(1, 11, size=(3, 4))\n",
        "\n",
        "# Створення вектора розміром 4 з випадковими цілими числами від 1 до 10\n",
        "vector = np.random.randint(1, 11, size=4)\n",
        "\n",
        "print(\"Матриця 3x4:\")\n",
        "print(matrix)\n",
        "\n",
        "print(\"\\nВектор розміром 4:\")\n",
        "print(vector)\n",
        "\n",
        "# Перемноження матриці на вектор\n",
        "result = np.dot(matrix, vector)\n",
        "\n",
        "print(\"\\nРезультат множення матриці на вектор:\")\n",
        "print(result)\n"
      ],
      "metadata": {
        "colab": {
          "base_uri": "https://localhost:8080/"
        },
        "id": "XV3Q1dtn0gjQ",
        "outputId": "c6d0a549-51f7-45fc-e412-dd8aefa277b3"
      },
      "execution_count": 15,
      "outputs": [
        {
          "output_type": "stream",
          "name": "stdout",
          "text": [
            "Матриця 3x4:\n",
            "[[ 8  7  8  3]\n",
            " [ 1  2 10  6]\n",
            " [ 5  4  5  7]]\n",
            "\n",
            "Вектор розміром 4:\n",
            "[3 5 4 2]\n",
            "\n",
            "Результат множення матриці на вектор:\n",
            "[97 65 69]\n"
          ]
        }
      ]
    }
  ]
}