{
  "nbformat": 4,
  "nbformat_minor": 0,
  "metadata": {
    "colab": {
      "provenance": [],
      "authorship_tag": "ABX9TyO+e85vlRw+zH3ssYz2q225",
      "include_colab_link": true
    },
    "kernelspec": {
      "name": "python3",
      "display_name": "Python 3"
    },
    "language_info": {
      "name": "python"
    }
  },
  "cells": [
    {
      "cell_type": "markdown",
      "metadata": {
        "id": "view-in-github",
        "colab_type": "text"
      },
      "source": [
        "<a href=\"https://colab.research.google.com/github/OlhaYastrebova/goit-ds-hw/blob/main/Hw4.ipynb\" target=\"_parent\"><img src=\"https://colab.research.google.com/assets/colab-badge.svg\" alt=\"Open In Colab\"/></a>"
      ]
    },
    {
      "cell_type": "code",
      "execution_count": 1,
      "metadata": {
        "colab": {
          "base_uri": "https://localhost:8080/"
        },
        "id": "_PQVrXmro_i8",
        "outputId": "d9e70155-d3f1-4d05-b04c-fd1d53fcb84d"
      },
      "outputs": [
        {
          "output_type": "stream",
          "name": "stdout",
          "text": [
            "Requirement already satisfied: numpy in /usr/local/lib/python3.10/dist-packages (1.26.4)\n"
          ]
        }
      ],
      "source": [
        "pip install numpy\n"
      ]
    },
    {
      "cell_type": "code",
      "source": [],
      "metadata": {
        "id": "iekciwd9qnQi"
      },
      "execution_count": null,
      "outputs": []
    },
    {
      "cell_type": "code",
      "source": [
        "import numpy as np\n",
        "\n"
      ],
      "metadata": {
        "id": "d4hLqcfWqnUW"
      },
      "execution_count": 2,
      "outputs": []
    },
    {
      "cell_type": "markdown",
      "source": [
        "1. Створіть одновимірний масив (вектор) з першими 10-ма натуральними числами та виведіть його значення."
      ],
      "metadata": {
        "id": "1CEg7VyryXWR"
      }
    },
    {
      "cell_type": "code",
      "source": [
        "import numpy as np\n",
        "\n",
        "# Створення одновимірного масиву з першими 10-ма натуральними числами\n",
        "vector = np.arange(1, 11)\n",
        "\n",
        "# Виведення значення масиву\n",
        "print(vector)\n"
      ],
      "metadata": {
        "colab": {
          "base_uri": "https://localhost:8080/"
        },
        "id": "NVJf73pZq30a",
        "outputId": "e46f9d47-bd53-41c0-ebab-791dca2a8c37"
      },
      "execution_count": 3,
      "outputs": [
        {
          "output_type": "stream",
          "name": "stdout",
          "text": [
            "[ 1  2  3  4  5  6  7  8  9 10]\n"
          ]
        }
      ]
    },
    {
      "cell_type": "markdown",
      "source": [
        "2. Створіть двовимірний масив (матрицю) розміром 3x3, заповніть його нулями та виведіть його значення."
      ],
      "metadata": {
        "id": "0JaPgZApyk1Q"
      }
    },
    {
      "cell_type": "code",
      "source": [
        "import numpy as np\n",
        "\n",
        "# Створення двовимірного масиву (матриці) розміром 3x3, заповненого нулями\n",
        "matrix = np.zeros((3, 3))\n",
        "\n",
        "# Виведення значення матриці\n",
        "print(matrix)\n"
      ],
      "metadata": {
        "colab": {
          "base_uri": "https://localhost:8080/"
        },
        "id": "7q6rU8vgsL7h",
        "outputId": "4b6c84cf-b7ef-4730-8d56-527ad74d51d0"
      },
      "execution_count": 4,
      "outputs": [
        {
          "output_type": "stream",
          "name": "stdout",
          "text": [
            "[[0. 0. 0.]\n",
            " [0. 0. 0.]\n",
            " [0. 0. 0.]]\n"
          ]
        }
      ]
    },
    {
      "cell_type": "markdown",
      "source": [
        "3. Створіть масив розміром 5x5, заповніть його випадковими цілими числами в діапазоні від 1 до 10 та виведіть його значення."
      ],
      "metadata": {
        "id": "dTq2ZlkZy5py"
      }
    },
    {
      "cell_type": "code",
      "source": [
        "import numpy as np\n",
        "\n",
        "# Створення масиву розміром 5x5, заповненого випадковими цілими числами в діапазоні від 1 до 10\n",
        "matrix = np.random.randint(1, 11, size=(5, 5))\n",
        "\n",
        "# Виведення значення масиву\n",
        "print(matrix)\n"
      ],
      "metadata": {
        "colab": {
          "base_uri": "https://localhost:8080/"
        },
        "id": "ONC3zitcsVAG",
        "outputId": "4f099589-e94e-4aea-9052-5a5111a39cd5"
      },
      "execution_count": 5,
      "outputs": [
        {
          "output_type": "stream",
          "name": "stdout",
          "text": [
            "[[ 8 10  2  9  3]\n",
            " [ 4  9 10  3  9]\n",
            " [ 3  1 10  6  7]\n",
            " [ 4  7  2  8 10]\n",
            " [ 6  3 10  7  5]]\n"
          ]
        }
      ]
    },
    {
      "cell_type": "markdown",
      "source": [
        "4. Створіть масив розміром 4x4, заповніть його випадковими дійсними числами в діапазоні від 0 до 1 та виведіть його значення."
      ],
      "metadata": {
        "id": "TSBrziSFzDNC"
      }
    },
    {
      "cell_type": "code",
      "source": [
        "import numpy as np\n",
        "\n",
        "# Створення масиву розміром 4x4, заповненого випадковими дійсними числами в діапазоні від 0 до 1\n",
        "matrix = np.random.random((4, 4))\n",
        "\n",
        "# Виведення значення масиву\n",
        "print(matrix)\n"
      ],
      "metadata": {
        "colab": {
          "base_uri": "https://localhost:8080/"
        },
        "id": "CPvlV7zbs05Y",
        "outputId": "f7c0aa1f-061f-412c-89c6-597f616c12a4"
      },
      "execution_count": 9,
      "outputs": [
        {
          "output_type": "stream",
          "name": "stdout",
          "text": [
            "[[0.57374273 0.83816911 0.74916217 0.44698156]\n",
            " [0.89696281 0.28694238 0.48545014 0.12970002]\n",
            " [0.60823029 0.46400965 0.71800198 0.84208207]\n",
            " [0.09568761 0.36697105 0.45285281 0.06924861]]\n"
          ]
        }
      ]
    },
    {
      "cell_type": "markdown",
      "source": [
        "5. Створіть два одновимірних масиви розміром 5, заповніть їх випадковими цілими числами в діапазоні від 1 до 10 та виконайте на них поелементні операції додавання, віднімання та множення."
      ],
      "metadata": {
        "id": "H--jLoz6zKpo"
      }
    },
    {
      "cell_type": "code",
      "source": [
        "import numpy as np\n",
        "\n",
        "# Створення двох одновимірних масивів розміром 5, заповнених випадковими цілими числами в діапазоні від 1 до 10\n",
        "array1 = np.random.randint(1, 11, size=5)\n",
        "array2 = np.random.randint(1, 11, size=5)\n",
        "\n",
        "# Поелементні операції додавання, віднімання та множення\n",
        "addition = array1 + array2\n",
        "subtraction = array1 - array2\n",
        "multiplication = array1 * array2\n",
        "\n",
        "# Виведення значень масивів та результатів операцій\n",
        "print(\"Array 1:\", array1)\n",
        "print(\"Array 2:\", array2)\n",
        "print(\"Addition:\", addition)\n",
        "print(\"Subtraction:\", subtraction)\n",
        "print(\"Multiplication:\", multiplication)\n"
      ],
      "metadata": {
        "colab": {
          "base_uri": "https://localhost:8080/"
        },
        "id": "PdS_QZxWtsLD",
        "outputId": "27c5b016-bcf0-41c9-9659-3dbb77372fbb"
      },
      "execution_count": 7,
      "outputs": [
        {
          "output_type": "stream",
          "name": "stdout",
          "text": [
            "Array 1: [1 8 2 4 2]\n",
            "Array 2: [3 1 9 7 2]\n",
            "Addition: [ 4  9 11 11  4]\n",
            "Subtraction: [-2  7 -7 -3  0]\n",
            "Multiplication: [ 3  8 18 28  4]\n"
          ]
        }
      ]
    },
    {
      "cell_type": "markdown",
      "source": [
        "6. Створіть два вектори розміром 7, заповніть довільними числами та знайдіть їх скалярний добуток."
      ],
      "metadata": {
        "id": "s1iExh01zVa4"
      }
    },
    {
      "cell_type": "code",
      "source": [
        "import numpy as np\n",
        "\n",
        "# Створення двох векторів розміром 7, заповнених довільними числами\n",
        "vector1 = np.random.rand(7)\n",
        "vector2 = np.random.rand(7)\n",
        "\n",
        "# Знаходження скалярного добутку\n",
        "dot_product = np.dot(vector1, vector2)\n",
        "\n",
        "# Виведення значень векторів та скалярного добутку\n",
        "print(\"Vector 1:\", vector1)\n",
        "print(\"Vector 2:\", vector2)\n",
        "print(\"Dot Product:\", dot_product)\n"
      ],
      "metadata": {
        "colab": {
          "base_uri": "https://localhost:8080/"
        },
        "id": "tXY2zIeLv3hk",
        "outputId": "6acd6ef5-dc1b-47af-f3d2-b539583cb695"
      },
      "execution_count": 10,
      "outputs": [
        {
          "output_type": "stream",
          "name": "stdout",
          "text": [
            "Vector 1: [0.30774988 0.47621161 0.06661705 0.907293   0.742245   0.57411846\n",
            " 0.04524875]\n",
            "Vector 2: [0.40343165 0.18472501 0.39038437 0.49409861 0.6454131  0.65518634\n",
            " 0.24167658]\n",
            "Dot Product: 1.5525674867523334\n"
          ]
        }
      ]
    },
    {
      "cell_type": "markdown",
      "source": [
        "7. Створіть дві матриці розміром 2x2 та 2x3, заповніть їх випадковими цілими числами в діапазоні від 1 до 10 та перемножте їх між собою."
      ],
      "metadata": {
        "id": "58WFJw-qzcCE"
      }
    },
    {
      "cell_type": "code",
      "source": [
        "import numpy as np\n",
        "\n",
        "# Створення матриці розміром 2x2 з випадковими цілими числами від 1 до 10\n",
        "matrix1 = np.random.randint(1, 11, size=(2, 2))\n",
        "\n",
        "# Створення матриці розміром 2x3 з випадковими цілими числами від 1 до 10\n",
        "matrix2 = np.random.randint(1, 11, size=(2, 3))\n",
        "\n",
        "# Перемноження матриць\n",
        "result = np.dot(matrix1, matrix2)\n",
        "\n",
        "print(\"Матриця 2x2:\")\n",
        "print(matrix1)\n",
        "print(\"\\nМатриця 2x3:\")\n",
        "print(matrix2)\n",
        "print(\"\\nРезультат множення:\")\n",
        "print(result)\n",
        "\n"
      ],
      "metadata": {
        "colab": {
          "base_uri": "https://localhost:8080/"
        },
        "id": "HpVnE-Kewrir",
        "outputId": "49dee542-7d20-4a2d-fbcc-e93d6dbd07b6"
      },
      "execution_count": 12,
      "outputs": [
        {
          "output_type": "stream",
          "name": "stdout",
          "text": [
            "Матриця 2x2:\n",
            "[[ 1 10]\n",
            " [ 9  4]]\n",
            "\n",
            "Матриця 2x3:\n",
            "[[2 6 5]\n",
            " [1 7 4]]\n",
            "\n",
            "Результат множення:\n",
            "[[12 76 45]\n",
            " [22 82 61]]\n"
          ]
        }
      ]
    },
    {
      "cell_type": "markdown",
      "source": [
        "8. Створіть матрицю розміром 3x3, заповніть її випадковими цілими числами в діапазоні від 1 до 10 та знайдіть її обернену матрицю."
      ],
      "metadata": {
        "id": "xHYSuSMVzrwZ"
      }
    },
    {
      "cell_type": "code",
      "source": [
        "import numpy as np\n",
        "\n",
        "# Створення матриці 3x3 з випадковими цілими числами від 1 до 10\n",
        "matrix = np.random.randint(1, 11, size=(3, 3))\n",
        "\n",
        "print(\"Матриця 3x3:\")\n",
        "print(matrix)\n",
        "\n",
        "# Перевірка, чи матриця є оберненою (детермінант не дорівнює нулю)\n",
        "if np.linalg.det(matrix) != 0:\n",
        "    # Знаходження оберненої матриці\n",
        "    inverse_matrix = np.linalg.inv(matrix)\n",
        "    print(\"\\nОбернена матриця:\")\n",
        "    print(inverse_matrix)\n",
        "else:\n",
        "    print(\"\\nМатриця не має оберненої матриці (детермінант дорівнює нулю).\")\n"
      ],
      "metadata": {
        "colab": {
          "base_uri": "https://localhost:8080/"
        },
        "id": "VZY8JQ_mzjSF",
        "outputId": "18ccd791-a244-423e-aa93-56d5581a06b8"
      },
      "execution_count": 13,
      "outputs": [
        {
          "output_type": "stream",
          "name": "stdout",
          "text": [
            "Матриця 3x3:\n",
            "[[ 9  6  7]\n",
            " [ 3  6  6]\n",
            " [ 9 10  8]]\n",
            "\n",
            "Обернена матриця:\n",
            "[[ 0.125      -0.22916667  0.0625    ]\n",
            " [-0.3125     -0.09375     0.34375   ]\n",
            " [ 0.25        0.375      -0.375     ]]\n"
          ]
        }
      ]
    },
    {
      "cell_type": "markdown",
      "source": [
        "9. Створіть матрицю розміром 4x4, заповніть її випадковими дійсними числами в діапазоні від 0 до 1 та транспонуйте її."
      ],
      "metadata": {
        "id": "JqgFQPgtzyDK"
      }
    },
    {
      "cell_type": "code",
      "source": [
        "import numpy as np\n",
        "\n",
        "# Створення матриці 4x4 з випадковими дійсними числами від 0 до 1\n",
        "matrix = np.random.rand(4, 4)\n",
        "\n",
        "print(\"Матриця 4x4:\")\n",
        "print(matrix)\n",
        "\n",
        "# Транспонування матриці\n",
        "transposed_matrix = matrix.T\n",
        "\n",
        "print(\"\\nТранспонована матриця:\")\n",
        "print(transposed_matrix)\n"
      ],
      "metadata": {
        "colab": {
          "base_uri": "https://localhost:8080/"
        },
        "id": "Lp0fEDov0Iep",
        "outputId": "6eeef4b7-2ee2-4c1a-a89a-e084b82900a5"
      },
      "execution_count": 14,
      "outputs": [
        {
          "output_type": "stream",
          "name": "stdout",
          "text": [
            "Матриця 4x4:\n",
            "[[0.40391671 0.43578661 0.98288639 0.25928276]\n",
            " [0.60870369 0.63045433 0.20391809 0.77474858]\n",
            " [0.33169391 0.53858508 0.08489552 0.56828191]\n",
            " [0.30648403 0.99411414 0.72937259 0.27182406]]\n",
            "\n",
            "Транспонована матриця:\n",
            "[[0.40391671 0.60870369 0.33169391 0.30648403]\n",
            " [0.43578661 0.63045433 0.53858508 0.99411414]\n",
            " [0.98288639 0.20391809 0.08489552 0.72937259]\n",
            " [0.25928276 0.77474858 0.56828191 0.27182406]]\n"
          ]
        }
      ]
    },
    {
      "cell_type": "markdown",
      "source": [
        "10. Створіть матрицю розміром 3x4 та вектор розміром 4, заповніть їх випадковими цілими числами в діапазоні від 1 до 10 та перемножте матрицю на вектор."
      ],
      "metadata": {
        "id": "7IfzzqIyz4wh"
      }
    },
    {
      "cell_type": "code",
      "source": [
        "import numpy as np\n",
        "\n",
        "# Створення матриці 3x4 з випадковими цілими числами від 1 до 10\n",
        "matrix = np.random.randint(1, 11, size=(3, 4))\n",
        "\n",
        "# Створення вектора розміром 4 з випадковими цілими числами від 1 до 10\n",
        "vector = np.random.randint(1, 11, size=4)\n",
        "\n",
        "print(\"Матриця 3x4:\")\n",
        "print(matrix)\n",
        "\n",
        "print(\"\\nВектор розміром 4:\")\n",
        "print(vector)\n",
        "\n",
        "# Перемноження матриці на вектор\n",
        "result = np.dot(matrix, vector)\n",
        "\n",
        "print(\"\\nРезультат множення матриці на вектор:\")\n",
        "print(result)\n"
      ],
      "metadata": {
        "colab": {
          "base_uri": "https://localhost:8080/"
        },
        "id": "XV3Q1dtn0gjQ",
        "outputId": "c6d0a549-51f7-45fc-e412-dd8aefa277b3"
      },
      "execution_count": 15,
      "outputs": [
        {
          "output_type": "stream",
          "name": "stdout",
          "text": [
            "Матриця 3x4:\n",
            "[[ 8  7  8  3]\n",
            " [ 1  2 10  6]\n",
            " [ 5  4  5  7]]\n",
            "\n",
            "Вектор розміром 4:\n",
            "[3 5 4 2]\n",
            "\n",
            "Результат множення матриці на вектор:\n",
            "[97 65 69]\n"
          ]
        }
      ]
    },
    {
      "cell_type": "markdown",
      "source": [
        "11. Створіть матрицю розміром 2x3 та вектор розміром 3, заповніть їх випадковими дійсними числами в діапазоні від 0 до 1 та перемножте матрицю на вектор."
      ],
      "metadata": {
        "id": "gKiXRahkz-Tw"
      }
    },
    {
      "cell_type": "code",
      "source": [
        "import numpy as np\n",
        "\n",
        "# Створення матриці 2x3 з випадковими дійсними числами від 0 до 1\n",
        "matrix = np.random.rand(2, 3)\n",
        "\n",
        "# Створення вектора розміром 3 з випадковими дійсними числами від 0 до 1\n",
        "vector = np.random.rand(3)\n",
        "\n",
        "print(\"Матриця 2x3:\")\n",
        "print(matrix)\n",
        "\n",
        "print(\"\\nВектор розміром 3:\")\n",
        "print(vector)\n",
        "\n",
        "# Перемноження матриці на вектор\n",
        "result = np.dot(matrix, vector)\n",
        "\n",
        "print(\"\\nРезультат множення матриці на вектор:\")\n",
        "print(result)\n"
      ],
      "metadata": {
        "colab": {
          "base_uri": "https://localhost:8080/"
        },
        "id": "KJp27p2hwteQ",
        "outputId": "47e28d9a-d281-4b65-b437-94e53861be9e"
      },
      "execution_count": 1,
      "outputs": [
        {
          "output_type": "stream",
          "name": "stdout",
          "text": [
            "Матриця 2x3:\n",
            "[[0.19304877 0.92779172 0.19517053]\n",
            " [0.81502675 0.08972187 0.31967921]]\n",
            "\n",
            "Вектор розміром 3:\n",
            "[0.91800546 0.02345711 0.69897061]\n",
            "\n",
            "Результат множення матриці на вектор:\n",
            "[0.3354016  0.97374999]\n"
          ]
        }
      ]
    },
    {
      "cell_type": "markdown",
      "source": [
        "12. Створіть дві матриці розміром 2x2, заповніть їх випадковими цілими числами в діапазоні від 1 до 10 та виконайте їхнє поелементне множення."
      ],
      "metadata": {
        "id": "oeT_0TWG0Eq7"
      }
    },
    {
      "cell_type": "code",
      "source": [
        "import numpy as np\n",
        "\n",
        "# Створення першої матриці 2x2 з випадковими цілими числами від 1 до 10\n",
        "matrix1 = np.random.randint(1, 11, size=(2, 2))\n",
        "\n",
        "# Створення другої матриці 2x2 з випадковими цілими числами від 1 до 10\n",
        "matrix2 = np.random.randint(1, 11, size=(2, 2))\n",
        "\n",
        "print(\"Перша матриця 2x2:\")\n",
        "print(matrix1)\n",
        "\n",
        "print(\"\\nДруга матриця 2x2:\")\n",
        "print(matrix2)\n",
        "\n",
        "# Поелементне множення матриць\n",
        "multiplication = matrix1 * matrix2\n",
        "\n",
        "print(\"\\nРезультат поелементного множення:\")\n",
        "print(multiplication)\n"
      ],
      "metadata": {
        "colab": {
          "base_uri": "https://localhost:8080/"
        },
        "id": "En_ijWKgxRvu",
        "outputId": "18bfae2c-2044-48d6-f4b6-5e9143466ded"
      },
      "execution_count": 2,
      "outputs": [
        {
          "output_type": "stream",
          "name": "stdout",
          "text": [
            "Перша матриця 2x2:\n",
            "[[10  3]\n",
            " [ 3  7]]\n",
            "\n",
            "Друга матриця 2x2:\n",
            "[[7 4]\n",
            " [1 3]]\n",
            "\n",
            "Результат поелементного множення:\n",
            "[[70 12]\n",
            " [ 3 21]]\n"
          ]
        }
      ]
    },
    {
      "cell_type": "markdown",
      "source": [
        "13. Створіть дві матриці розміром 2x2, заповніть їх випадковими цілими числами в діапазоні від 1 до 10 та знайдіть їх добуток."
      ],
      "metadata": {
        "id": "_ccyDPe20K48"
      }
    },
    {
      "cell_type": "code",
      "source": [
        "import numpy as np\n",
        "\n",
        "# Створення першої матриці 2x2 з випадковими цілими числами від 1 до 10\n",
        "matrix1 = np.random.randint(1, 11, size=(2, 2))\n",
        "\n",
        "# Створення другої матриці 2x2 з випадковими цілими числами від 1 до 10\n",
        "matrix2 = np.random.randint(1, 11, size=(2, 2))\n",
        "\n",
        "print(\"Перша матриця 2x2:\")\n",
        "print(matrix1)\n",
        "\n",
        "print(\"\\nДруга матриця 2x2:\")\n",
        "print(matrix2)\n",
        "\n",
        "# Матричне множення двох матриць\n",
        "matrix_product = np.dot(matrix1, matrix2)\n",
        "\n",
        "print(\"\\nДобуток двох матриць:\")\n",
        "print(matrix_product)\n"
      ],
      "metadata": {
        "colab": {
          "base_uri": "https://localhost:8080/"
        },
        "id": "FZyj3G7AyHXB",
        "outputId": "0163971a-a368-4253-cda3-8cd6915d351d"
      },
      "execution_count": 3,
      "outputs": [
        {
          "output_type": "stream",
          "name": "stdout",
          "text": [
            "Перша матриця 2x2:\n",
            "[[6 5]\n",
            " [7 9]]\n",
            "\n",
            "Друга матриця 2x2:\n",
            "[[10  6]\n",
            " [ 2  8]]\n",
            "\n",
            "Добуток двох матриць:\n",
            "[[ 70  76]\n",
            " [ 88 114]]\n"
          ]
        }
      ]
    },
    {
      "cell_type": "markdown",
      "source": [
        "14. Створіть матрицю розміром 5x5, заповніть її випадковими цілими числами в діапазоні від 1 до 100 та знайдіть суму елементів матриці."
      ],
      "metadata": {
        "id": "JnN8d6RK0RC1"
      }
    },
    {
      "cell_type": "code",
      "source": [
        "import numpy as np\n",
        "\n",
        "# Створення матриці 5x5 з випадковими цілими числами від 1 до 100\n",
        "matrix = np.random.randint(1, 101, size=(5, 5))\n",
        "\n",
        "# Знаходження суми елементів матриці\n",
        "matrix_sum = np.sum(matrix)\n",
        "\n",
        "# Виведення матриці та суми її елементів\n",
        "print(\"Матриця 5x5:\")\n",
        "print(matrix)\n",
        "\n",
        "print(\"\\nСума елементів матриці:\")\n",
        "print(matrix_sum)\n"
      ],
      "metadata": {
        "colab": {
          "base_uri": "https://localhost:8080/"
        },
        "id": "uCRDXi_R0WSV",
        "outputId": "488254c6-2ca5-4d7f-ac2c-554db9a80bfb"
      },
      "execution_count": 4,
      "outputs": [
        {
          "output_type": "stream",
          "name": "stdout",
          "text": [
            "Матриця 5x5:\n",
            "[[71 67 14 93 38]\n",
            " [58 69 38 94 74]\n",
            " [71 14 75 80 48]\n",
            " [39 87 15 85 66]\n",
            " [ 8 13 53 10 91]]\n",
            "\n",
            "Сума елементів матриці:\n",
            "1371\n"
          ]
        }
      ]
    },
    {
      "cell_type": "markdown",
      "source": [
        "15. Створіть дві матриці розміром 4x4, заповніть їх випадковими цілими числами в діапазоні від 1 до 10 та знайдіть їхню різницю."
      ],
      "metadata": {
        "id": "JhZ0PO7L0pEO"
      }
    },
    {
      "cell_type": "code",
      "source": [
        "import numpy as np\n",
        "\n",
        "# Створення двох матриць 4x4 з випадковими цілими числами від 1 до 10\n",
        "matrix1 = np.random.randint(1, 11, size=(4, 4))\n",
        "matrix2 = np.random.randint(1, 11, size=(4, 4))\n",
        "\n",
        "# Знаходження різниці двох матриць\n",
        "difference = matrix1 - matrix2\n",
        "\n",
        "# Виведення матриць та їхньої різниці\n",
        "print(\"Перша матриця:\")\n",
        "print(matrix1)\n",
        "\n",
        "print(\"\\nДруга матриця:\")\n",
        "print(matrix2)\n",
        "\n",
        "print(\"\\nРізниця матриць:\")\n",
        "print(difference)\n"
      ],
      "metadata": {
        "colab": {
          "base_uri": "https://localhost:8080/"
        },
        "id": "uCS_zpQ21QIE",
        "outputId": "7cd6e36f-1563-480d-e2d4-3e175d0cba50"
      },
      "execution_count": 6,
      "outputs": [
        {
          "output_type": "stream",
          "name": "stdout",
          "text": [
            "Перша матриця:\n",
            "[[ 5  7  2  1]\n",
            " [ 4  1  4 10]\n",
            " [ 8  3 10  7]\n",
            " [ 5  3  4  9]]\n",
            "\n",
            "Друга матриця:\n",
            "[[10  8 10  3]\n",
            " [ 6  8  9  5]\n",
            " [ 1  1  4  3]\n",
            " [ 7  4  8  3]]\n",
            "\n",
            "Різниця матриць:\n",
            "[[-5 -1 -8 -2]\n",
            " [-2 -7 -5  5]\n",
            " [ 7  2  6  4]\n",
            " [-2 -1 -4  6]]\n"
          ]
        }
      ]
    },
    {
      "cell_type": "markdown",
      "source": [
        "16. Створіть матрицю розміром 3x3, заповніть її випадковими дійсними числами в діапазоні від 0 до 1 та знайдіть вектор-стовпчик, що містить суму елементів кожного рядка матриці."
      ],
      "metadata": {
        "id": "UWwi5cjf1axd"
      }
    },
    {
      "cell_type": "code",
      "source": [
        "import numpy as np\n",
        "\n",
        "# Створення матриці 3x3 з випадковими дійсними числами від 0 до 1\n",
        "matrix = np.random.rand(3, 3)\n",
        "\n",
        "# Знаходження суми елементів кожного рядка (вектор-стовпчик)\n",
        "row_sums = np.sum(matrix, axis=1).reshape(-1, 1)\n",
        "\n",
        "# Виведення матриці та вектора-стовпчика\n",
        "print(\"Матриця 3x3:\")\n",
        "print(matrix)\n",
        "\n",
        "print(\"\\nВектор-стовпчик із сумою елементів кожного рядка:\")\n",
        "print(row_sums)\n"
      ],
      "metadata": {
        "colab": {
          "base_uri": "https://localhost:8080/"
        },
        "id": "YEfZuTvg1-jD",
        "outputId": "f07dfa28-9bac-40cb-c7cb-7111a2226697"
      },
      "execution_count": 7,
      "outputs": [
        {
          "output_type": "stream",
          "name": "stdout",
          "text": [
            "Матриця 3x3:\n",
            "[[0.11400478 0.68818482 0.63152811]\n",
            " [0.07543971 0.80646942 0.44159561]\n",
            " [0.47655321 0.41141771 0.16266703]]\n",
            "\n",
            "Вектор-стовпчик із сумою елементів кожного рядка:\n",
            "[[1.43371772]\n",
            " [1.32350474]\n",
            " [1.05063794]]\n"
          ]
        }
      ]
    },
    {
      "cell_type": "markdown",
      "source": [
        "17. Створіть матрицю розміром 3x4 з довільними цілими числами і створінь матрицю з квадратами цих чисел."
      ],
      "metadata": {
        "id": "S0ApHuyS2wb6"
      }
    },
    {
      "cell_type": "code",
      "source": [
        "import numpy as np\n",
        "\n",
        "# Створюємо матрицю розміром 3x4 з довільними цілими числами\n",
        "matrix = np.random.randint(1, 101, size=(3, 4))\n",
        "print(\"Початкова матриця:\")\n",
        "print(matrix)\n",
        "\n",
        "# Створюємо матрицю з квадратами цих чисел\n",
        "squared_matrix = np.power(matrix, 2)\n",
        "print(\"\\nМатриця з квадратами чисел:\")\n",
        "print(squared_matrix)\n"
      ],
      "metadata": {
        "colab": {
          "base_uri": "https://localhost:8080/"
        },
        "id": "Zc9s_AzO3vIw",
        "outputId": "c166eb84-3dc6-4648-b3fa-d6f368a9f879"
      },
      "execution_count": 10,
      "outputs": [
        {
          "output_type": "stream",
          "name": "stdout",
          "text": [
            "Початкова матриця:\n",
            "[[38 39 46 40]\n",
            " [74 13 55 52]\n",
            " [52  8 13 88]]\n",
            "\n",
            "Матриця з квадратами чисел:\n",
            "[[1444 1521 2116 1600]\n",
            " [5476  169 3025 2704]\n",
            " [2704   64  169 7744]]\n"
          ]
        }
      ]
    },
    {
      "cell_type": "markdown",
      "source": [
        "18. Створіть вектор розміром 4, заповніть його випадковими цілими числами в діапазоні від 1 до 50 та знайдіть вектор з квадратними коренями цих чисел."
      ],
      "metadata": {
        "id": "pK2jKsmg4oiP"
      }
    },
    {
      "cell_type": "code",
      "source": [
        "import numpy as np\n",
        "\n",
        "# Створюємо вектор розміром 4 з випадковими цілими числами в діапазоні від 1 до 50\n",
        "vector = np.random.randint(1, 51, size=4)\n",
        "print(\"Початковий вектор:\")\n",
        "print(vector)\n",
        "\n",
        "# Знаходимо вектор з квадратними коренями цих чисел\n",
        "sqrt_vector = np.sqrt(vector)\n",
        "print(\"\\nВектор з квадратними коренями чисел:\")\n",
        "print(sqrt_vector)\n"
      ],
      "metadata": {
        "colab": {
          "base_uri": "https://localhost:8080/"
        },
        "id": "YM3KWMd240Ji",
        "outputId": "37e82adc-91a9-4f95-b606-05ed262f70ed"
      },
      "execution_count": 12,
      "outputs": [
        {
          "output_type": "stream",
          "name": "stdout",
          "text": [
            "Початковий вектор:\n",
            "[ 8 28 27 29]\n",
            "\n",
            "Вектор з квадратними коренями чисел:\n",
            "[2.82842712 5.29150262 5.19615242 5.38516481]\n"
          ]
        }
      ]
    },
    {
      "cell_type": "markdown",
      "source": [
        "**Завдання 2 (додаткове, за бажанням)**\n",
        "1. Замініть усі непарні числа в arr на -1 arr = np.array([0, 1, 2, 3, 4, 5, 6, 7, 8, 9])"
      ],
      "metadata": {
        "id": "s0Mvs_Ke6ljU"
      }
    },
    {
      "cell_type": "code",
      "source": [
        "import numpy as np\n",
        "\n",
        "# Створюємо масив\n",
        "arr = np.array([0, 1, 2, 3, 4, 5, 6, 7, 8, 9])\n",
        "print(\"Початковий масив:\")\n",
        "print(arr)\n",
        "\n",
        "# Замінюємо всі непарні числа на -1\n",
        "arr[arr % 2 != 0] = -1\n",
        "print(\"\\nМасив після заміни непарних чисел на -1:\")\n",
        "print(arr)\n"
      ],
      "metadata": {
        "colab": {
          "base_uri": "https://localhost:8080/"
        },
        "id": "TBzmHb3s7EHT",
        "outputId": "2508e981-7620-423c-8e9d-2ea1c8643e99"
      },
      "execution_count": 13,
      "outputs": [
        {
          "output_type": "stream",
          "name": "stdout",
          "text": [
            "Початковий масив:\n",
            "[0 1 2 3 4 5 6 7 8 9]\n",
            "\n",
            "Масив після заміни непарних чисел на -1:\n",
            "[ 0 -1  2 -1  4 -1  6 -1  8 -1]\n"
          ]
        }
      ]
    },
    {
      "cell_type": "markdown",
      "source": [
        "2. Створіть та перетворіть 1D-масив на 2D-масив із 2 рядками"
      ],
      "metadata": {
        "id": "AYsN06RE7Rpw"
      }
    },
    {
      "cell_type": "code",
      "source": [
        "import numpy as np\n",
        "\n",
        "# Створюємо 1D-масив\n",
        "array_1d = np.array([1, 2, 3, 4, 5, 6, 7, 8])\n",
        "print(\"Початковий 1D-масив:\")\n",
        "print(array_1d)\n",
        "\n",
        "# Перетворюємо 1D-масив на 2D-масив з 2 рядками\n",
        "array_2d = array_1d.reshape(2, -1)\n",
        "print(\"\\n2D-масив з 2 рядками:\")\n",
        "print(array_2d)\n"
      ],
      "metadata": {
        "colab": {
          "base_uri": "https://localhost:8080/"
        },
        "id": "HFXgR0o87lGA",
        "outputId": "0891e7ca-3f4d-4c7c-8cef-4912d9dd21d8"
      },
      "execution_count": 14,
      "outputs": [
        {
          "output_type": "stream",
          "name": "stdout",
          "text": [
            "Початковий 1D-масив:\n",
            "[1 2 3 4 5 6 7 8]\n",
            "\n",
            "2D-масив з 2 рядками:\n",
            "[[1 2 3 4]\n",
            " [5 6 7 8]]\n"
          ]
        }
      ]
    },
    {
      "cell_type": "markdown",
      "source": [
        "3. Створіть два двовимірні масиви а і b, та складіть масиви їх вертикально"
      ],
      "metadata": {
        "id": "b-EWv5kq7u6D"
      }
    },
    {
      "cell_type": "code",
      "source": [
        "import numpy as np\n",
        "\n",
        "# Створюємо два двовимірні масиви\n",
        "a = np.array([[1, 2, 3], [4, 5, 6]])\n",
        "b = np.array([[7, 8, 9], [10, 11, 12]])\n",
        "\n",
        "print(\"Масив a:\")\n",
        "print(a)\n",
        "\n",
        "print(\"\\nМасив b:\")\n",
        "print(b)\n",
        "\n",
        "# Складаємо масиви вертикально\n",
        "vertical_stack = np.vstack((a, b))\n",
        "print(\"\\nВертикально об'єднаний масив:\")\n",
        "print(vertical_stack)\n"
      ],
      "metadata": {
        "colab": {
          "base_uri": "https://localhost:8080/"
        },
        "id": "Tx5AjLu07y_Y",
        "outputId": "1b207fb7-f0f4-4013-e809-f6b56cea3651"
      },
      "execution_count": 15,
      "outputs": [
        {
          "output_type": "stream",
          "name": "stdout",
          "text": [
            "Масив a:\n",
            "[[1 2 3]\n",
            " [4 5 6]]\n",
            "\n",
            "Масив b:\n",
            "[[ 7  8  9]\n",
            " [10 11 12]]\n",
            "\n",
            "Вертикально об'єднаний масив:\n",
            "[[ 1  2  3]\n",
            " [ 4  5  6]\n",
            " [ 7  8  9]\n",
            " [10 11 12]]\n"
          ]
        }
      ]
    },
    {
      "cell_type": "markdown",
      "source": [
        "4. Створіть наступний шаблон без жорсткого кодування(Hard coding) . Використовуйте лише функції Numpy і наведений нижче масив введення Input:a = np.array([1,2,3])\n",
        "\n",
        "Output:array([1, 1, 1, 2, 2, 2, 3, 3, 3, 1, 2, 3, 1, 2, 3, 1, 2, 3])"
      ],
      "metadata": {
        "id": "zs79xa4Y8GrG"
      }
    },
    {
      "cell_type": "code",
      "source": [
        "import numpy as np\n",
        "\n",
        "# Вихідний масив\n",
        "a = np.array([1, 2, 3])\n",
        "\n",
        "# Створюємо масив, де кожен елемент повторюється тричі\n",
        "repeated = np.repeat(a, 3)\n",
        "print(\"Масив з повтореннями:\")\n",
        "print(repeated)\n",
        "\n",
        "# Створюємо масив, де вихідний масив плвторюється тричі\n",
        "template = np.tile(a, 3)\n",
        "print(\"\\nПовтор вихідного масиву:\")\n",
        "print(template)\n",
        "\n",
        "# Створюємо фінальний масив\n",
        "output_array = np.concatenate((repeated, template))\n",
        "print(\"\\nФінальний масив:\")\n",
        "print(output_array)\n",
        "\n"
      ],
      "metadata": {
        "colab": {
          "base_uri": "https://localhost:8080/"
        },
        "id": "BonP55rl8n7y",
        "outputId": "08b9f5a6-e3f7-4af0-f83d-0a8f0aeb0b5a"
      },
      "execution_count": 22,
      "outputs": [
        {
          "output_type": "stream",
          "name": "stdout",
          "text": [
            "Масив з повтореннями:\n",
            "[1 1 1 2 2 2 3 3 3]\n",
            "\n",
            "Повтор вихідного масиву:\n",
            "[1 2 3 1 2 3 1 2 3]\n",
            "\n",
            "Фінальний масив:\n",
            "[1 1 1 2 2 2 3 3 3 1 2 3 1 2 3 1 2 3]\n"
          ]
        }
      ]
    },
    {
      "cell_type": "markdown",
      "source": [
        "5. Отримайте спільні елементи між a і b\n",
        "\n",
        "a = np.array([1,2,3,2,3,4,3,4,5,6]) b = np.array([7,2,10,2,7,4,9,4,9,8])"
      ],
      "metadata": {
        "id": "AVlfQRgiBgzE"
      }
    },
    {
      "cell_type": "code",
      "source": [
        "import numpy as np\n",
        "\n",
        "# Вихідні масиви\n",
        "a = np.array([1, 2, 3, 2, 3, 4, 3, 4, 5, 6])\n",
        "b = np.array([7, 2, 10, 2, 7, 4, 9, 4, 9, 8])\n",
        "\n",
        "# Отримуємо спільні елементи між a і b\n",
        "common_elements = np.intersect1d(a, b)\n",
        "print(\"Спільні елементи:\")\n",
        "print(common_elements)\n"
      ],
      "metadata": {
        "colab": {
          "base_uri": "https://localhost:8080/"
        },
        "id": "BpERBMrdBnpa",
        "outputId": "43791569-75c0-41f2-a5a5-ac8526660488"
      },
      "execution_count": 23,
      "outputs": [
        {
          "output_type": "stream",
          "name": "stdout",
          "text": [
            "Спільні елементи:\n",
            "[2 4]\n"
          ]
        }
      ]
    },
    {
      "cell_type": "markdown",
      "source": [
        "6. Отримайте позиції перших 5 максимальних значень у заданому масиві a\n",
        "\n",
        "np.random.seed(100) a = np.random.uniform(1,50, 20)"
      ],
      "metadata": {
        "id": "HJNFJwj-CE6c"
      }
    },
    {
      "cell_type": "code",
      "source": [
        "import numpy as np\n",
        "\n",
        "# Фіксуємо випадковість для відтворюваності результатів\n",
        "np.random.seed(100)\n",
        "\n",
        "# Створюємо масив з 20 випадкових чисел від 1 до 50\n",
        "a = np.random.uniform(1, 50, 20)\n",
        "\n",
        "# Знаходимо індекси 5 найбільших елементів\n",
        "indices = np.argsort(a)[::-1][:5]\n",
        "\n",
        "print(\"Масив:\", a)\n",
        "print(\"Індекси 5 найбільших елементів:\", indices)\n"
      ],
      "metadata": {
        "colab": {
          "base_uri": "https://localhost:8080/"
        },
        "id": "F5F_rxOJCG58",
        "outputId": "03469f27-e93e-429a-8d99-3cbd95c90758"
      },
      "execution_count": 26,
      "outputs": [
        {
          "output_type": "stream",
          "name": "stdout",
          "text": [
            "Масив: [27.62684215 14.64009987 21.80136195 42.39403048  1.23122395  6.95688692\n",
            " 33.86670515 41.466785    7.69862289 29.17957314 44.67477576 11.25090398\n",
            " 10.08108276  6.31046763 11.76517714 48.95256545 40.77247431  9.42510962\n",
            " 40.99501269 14.42961361]\n",
            "Індекси 5 найбільших елементів: [15 10  3  7 18]\n"
          ]
        }
      ]
    },
    {
      "cell_type": "markdown",
      "source": [
        "7. Вилучіть усі значення NaN із одновимірного масиву\n",
        "\n",
        "а=np.array([1,2,3,np.nan,5,6,7,np.nan])"
      ],
      "metadata": {
        "id": "EsGvl5fsF2iM"
      }
    },
    {
      "cell_type": "code",
      "source": [
        "import numpy as np\n",
        "\n",
        "# Створюємо масив з NaN значеннями\n",
        "a = np.array([1, 2, 3, np.nan, 5, 6, 7, np.nan])\n",
        "print(\"Початковий масив:\")\n",
        "print(a)\n",
        "\n",
        "# Вилучаємо всі значення NaN\n",
        "filtered_array = a[~np.isnan(a)]\n",
        "print(\"\\nМасив без NaN значень:\")\n",
        "print(filtered_array)\n"
      ],
      "metadata": {
        "colab": {
          "base_uri": "https://localhost:8080/"
        },
        "id": "LTS_cCNHF4cZ",
        "outputId": "11603208-6e70-4254-f7e0-f77d486bb324"
      },
      "execution_count": 27,
      "outputs": [
        {
          "output_type": "stream",
          "name": "stdout",
          "text": [
            "Початковий масив:\n",
            "[ 1.  2.  3. nan  5.  6.  7. nan]\n",
            "\n",
            "Масив без NaN значень:\n",
            "[1. 2. 3. 5. 6. 7.]\n"
          ]
        }
      ]
    },
    {
      "cell_type": "markdown",
      "source": [
        "8. Обчисліть евклідову відстань між двома масивами a і b.\n",
        "\n",
        "a = np.array([1,2,3,4,5]) b = np.array([4,5,6,7,8])"
      ],
      "metadata": {
        "id": "Gh6AlcOTGap5"
      }
    },
    {
      "cell_type": "code",
      "source": [
        "import numpy as np\n",
        "\n",
        "# Визначаємо масиви\n",
        "a = np.array([1, 2, 3, 4, 5])\n",
        "b = np.array([4, 5, 6, 7, 8])\n",
        "\n",
        "# Обчислюємо евклідову відстань між a і b\n",
        "distance = np.linalg.norm(a - b)\n",
        "print(\"Евклідова відстань між масивами:\")\n",
        "print(distance)\n"
      ],
      "metadata": {
        "colab": {
          "base_uri": "https://localhost:8080/"
        },
        "id": "bINEcquEGcRL",
        "outputId": "56015161-c4b3-4a64-b504-98f12be457f8"
      },
      "execution_count": 28,
      "outputs": [
        {
          "output_type": "stream",
          "name": "stdout",
          "text": [
            "Евклідова відстань між масивами:\n",
            "6.708203932499369\n"
          ]
        }
      ]
    },
    {
      "cell_type": "markdown",
      "source": [
        "9. Знайдіть індекс 5-го повторення числа 1 у масиві x\n",
        "\n",
        "x = np.array([1, 2, 1, 1, 3, 4, 3, 1, 1, 2, 1, 1, 2])"
      ],
      "metadata": {
        "id": "2mlCDoeDG2tA"
      }
    },
    {
      "cell_type": "code",
      "source": [
        "import numpy as np\n",
        "\n",
        "# Визначаємо масив\n",
        "x = np.array([1, 2, 1, 1, 3, 4, 3, 1, 1, 2, 1, 1, 2])\n",
        "\n",
        "# Отримуємо всі індекси, де значення дорівнює 1\n",
        "indices = np.where(x == 1)[0]\n",
        "\n",
        "# Перевіряємо, чи є п'яте повторення\n",
        "if len(indices) >= 5:\n",
        "    fifth_index = indices[4]  # 5-е повторення (індекс 4 у 0-індексованому масиві)\n",
        "    print(\"Індекс 5-го повторення числа 1:\")\n",
        "    print(fifth_index)\n",
        "else:\n",
        "    print(\"Менше ніж 5 повторень числа 1 у масиві.\")\n"
      ],
      "metadata": {
        "colab": {
          "base_uri": "https://localhost:8080/"
        },
        "id": "pa11nh9-G7x0",
        "outputId": "3a766cd9-603c-4809-9061-0dabceb8a96b"
      },
      "execution_count": 29,
      "outputs": [
        {
          "output_type": "stream",
          "name": "stdout",
          "text": [
            "Індекс 5-го повторення числа 1:\n",
            "8\n"
          ]
        }
      ]
    },
    {
      "cell_type": "markdown",
      "source": [
        "10. Знайдіть повторювані записи (від 2-го випадку повторення і далі) у заданому масиві і позначте їх як True. Перше повторення має бути False.\n",
        "\n",
        "# Input np.random.seed(100) a = np.random.randint(0, 5, 10)\n",
        "\n",
        "[0 0 3 0 2 4 2 2 2 2] #Output [False True False True False False True True True True]"
      ],
      "metadata": {
        "id": "ijQp3WxTHnZq"
      }
    },
    {
      "cell_type": "code",
      "source": [
        "import numpy as np\n",
        "\n",
        "# Фіксуємо випадковість для відтворюваності результатів\n",
        "np.random.seed(100)\n",
        "\n",
        "# Створюємо масив\n",
        "a = np.random.randint(0, 5, 10)\n",
        "print(\"Вихідний масив:\")\n",
        "print(a)\n",
        "\n",
        "# Знаходимо повторювані записи\n",
        "unique, counts = np.unique(a, return_counts=True)\n",
        "repeat_mask = counts > 1\n",
        "\n",
        "# Створюємо масив з такими ж розмірами, як і `a`, заповнений значеннями False\n",
        "result = np.zeros_like(a, dtype=bool)\n",
        "\n",
        "# Для кожного повторюваного значення визначаємо індекси в масиві `a`\n",
        "for value in unique[repeat_mask]:\n",
        "    # Індекс позицій, де `value` повторюється\n",
        "    indices = np.where(a == value)[0]\n",
        "\n",
        "    # Встановлюємо True для всіх індексів, крім першого\n",
        "    result[indices[1:]] = True\n",
        "\n",
        "print(\"\\nМасив з помітками повторюваних записів:\")\n",
        "print(result)\n"
      ],
      "metadata": {
        "colab": {
          "base_uri": "https://localhost:8080/"
        },
        "id": "4ulxFoUrJi2G",
        "outputId": "a0876899-0d89-405b-e971-f8978826cce2"
      },
      "execution_count": 31,
      "outputs": [
        {
          "output_type": "stream",
          "name": "stdout",
          "text": [
            "Вихідний масив:\n",
            "[0 0 3 0 2 4 2 2 2 2]\n",
            "\n",
            "Масив з помітками повторюваних записів:\n",
            "[False  True False  True False False  True  True  True  True]\n"
          ]
        }
      ]
    }
  ]
}