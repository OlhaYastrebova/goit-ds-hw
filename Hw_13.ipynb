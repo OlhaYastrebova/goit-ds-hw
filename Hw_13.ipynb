{
  "nbformat": 4,
  "nbformat_minor": 0,
  "metadata": {
    "colab": {
      "provenance": [],
      "gpuType": "T4",
      "authorship_tag": "ABX9TyPHRa0yRjNQtfLHiG4ZsG1C",
      "include_colab_link": true
    },
    "kernelspec": {
      "name": "python3",
      "display_name": "Python 3"
    },
    "language_info": {
      "name": "python"
    },
    "accelerator": "GPU"
  },
  "cells": [
    {
      "cell_type": "markdown",
      "metadata": {
        "id": "view-in-github",
        "colab_type": "text"
      },
      "source": [
        "<a href=\"https://colab.research.google.com/github/OlhaYastrebova/goit-ds-hw/blob/main/Hw_13.ipynb\" target=\"_parent\"><img src=\"https://colab.research.google.com/assets/colab-badge.svg\" alt=\"Open In Colab\"/></a>"
      ]
    },
    {
      "cell_type": "code",
      "execution_count": null,
      "metadata": {
        "colab": {
          "base_uri": "https://localhost:8080/"
        },
        "id": "tdefWrCAYLv9",
        "outputId": "075524d8-d895-46de-9f89-6702e5429608"
      },
      "outputs": [
        {
          "output_type": "stream",
          "name": "stdout",
          "text": [
            "Downloading data from https://storage.googleapis.com/tensorflow/tf-keras-datasets/train-labels-idx1-ubyte.gz\n",
            "\u001b[1m29515/29515\u001b[0m \u001b[32m━━━━━━━━━━━━━━━━━━━━\u001b[0m\u001b[37m\u001b[0m \u001b[1m0s\u001b[0m 0us/step\n",
            "Downloading data from https://storage.googleapis.com/tensorflow/tf-keras-datasets/train-images-idx3-ubyte.gz\n",
            "\u001b[1m26421880/26421880\u001b[0m \u001b[32m━━━━━━━━━━━━━━━━━━━━\u001b[0m\u001b[37m\u001b[0m \u001b[1m0s\u001b[0m 0us/step\n",
            "Downloading data from https://storage.googleapis.com/tensorflow/tf-keras-datasets/t10k-labels-idx1-ubyte.gz\n",
            "\u001b[1m5148/5148\u001b[0m \u001b[32m━━━━━━━━━━━━━━━━━━━━\u001b[0m\u001b[37m\u001b[0m \u001b[1m0s\u001b[0m 0us/step\n",
            "Downloading data from https://storage.googleapis.com/tensorflow/tf-keras-datasets/t10k-images-idx3-ubyte.gz\n",
            "\u001b[1m4422102/4422102\u001b[0m \u001b[32m━━━━━━━━━━━━━━━━━━━━\u001b[0m\u001b[37m\u001b[0m \u001b[1m0s\u001b[0m 0us/step\n"
          ]
        }
      ],
      "source": [
        "import tensorflow as tf\n",
        "from keras import layers, models\n",
        "from keras.datasets import fashion_mnist\n",
        "from keras.utils import to_categorical\n",
        "\n",
        "# Завантажуємо дані\n",
        "(train_images, train_labels), (test_images, test_labels) = fashion_mnist.load_data()\n",
        "\n",
        "# Нормалізуємо дані\n",
        "train_images = train_images / 255.0\n",
        "test_images = test_images / 255.0\n",
        "\n",
        "# One-hot encoding міток\n",
        "train_labels = to_categorical(train_labels)\n",
        "test_labels = to_categorical(test_labels)\n"
      ]
    },
    {
      "cell_type": "code",
      "source": [
        "from keras import Input\n",
        "\n",
        "model = models.Sequential()\n",
        "\n",
        "# Вхідний шар\n",
        "model.add(Input(shape=(28, 28, 1)))\n",
        "\n",
        "# Шар згортки\n",
        "model.add(layers.Conv2D(32, (3, 3), activation='relu'))\n",
        "model.add(layers.MaxPooling2D((2, 2)))\n",
        "\n",
        "# Додаткові шари згортки\n",
        "model.add(layers.Conv2D(64, (3, 3), activation='relu'))\n",
        "model.add(layers.MaxPooling2D((2, 2)))\n",
        "\n",
        "model.add(layers.Conv2D(64, (3, 3), activation='relu'))\n",
        "\n",
        "# Перетворення до одного виміру\n",
        "model.add(layers.Flatten())\n",
        "\n",
        "# Щільний шар\n",
        "model.add(layers.Dense(128, activation='relu'))\n",
        "\n",
        "# Вихідний шар\n",
        "model.add(layers.Dense(10, activation='softmax'))\n",
        "\n",
        "# Компіляція моделі\n",
        "model.compile(optimizer='adam',\n",
        "              loss='categorical_crossentropy',\n",
        "              metrics=['accuracy'])\n"
      ],
      "metadata": {
        "id": "eqAkuMLCZVF4"
      },
      "execution_count": null,
      "outputs": []
    },
    {
      "cell_type": "code",
      "source": [
        "# Тренуємо модель\n",
        "history = model.fit(train_images, train_labels, epochs=10, batch_size=64, validation_split=0.2)\n",
        "\n",
        "# Оцінюємо модель\n",
        "test_loss, test_acc = model.evaluate(test_images, test_labels)\n",
        "print(f'Точність на тестових даних: {test_acc}')\n"
      ],
      "metadata": {
        "colab": {
          "base_uri": "https://localhost:8080/"
        },
        "id": "rlpz9JqlaFD3",
        "outputId": "958936a7-522c-4d62-dc72-c84a98872801"
      },
      "execution_count": null,
      "outputs": [
        {
          "output_type": "stream",
          "name": "stdout",
          "text": [
            "Epoch 1/10\n",
            "\u001b[1m750/750\u001b[0m \u001b[32m━━━━━━━━━━━━━━━━━━━━\u001b[0m\u001b[37m\u001b[0m \u001b[1m50s\u001b[0m 64ms/step - accuracy: 0.6974 - loss: 0.8229 - val_accuracy: 0.8462 - val_loss: 0.4140\n",
            "Epoch 2/10\n",
            "\u001b[1m750/750\u001b[0m \u001b[32m━━━━━━━━━━━━━━━━━━━━\u001b[0m\u001b[37m\u001b[0m \u001b[1m83s\u001b[0m 66ms/step - accuracy: 0.8643 - loss: 0.3738 - val_accuracy: 0.8695 - val_loss: 0.3515\n",
            "Epoch 3/10\n",
            "\u001b[1m750/750\u001b[0m \u001b[32m━━━━━━━━━━━━━━━━━━━━\u001b[0m\u001b[37m\u001b[0m \u001b[1m78s\u001b[0m 60ms/step - accuracy: 0.8868 - loss: 0.3096 - val_accuracy: 0.8879 - val_loss: 0.3115\n",
            "Epoch 4/10\n",
            "\u001b[1m750/750\u001b[0m \u001b[32m━━━━━━━━━━━━━━━━━━━━\u001b[0m\u001b[37m\u001b[0m \u001b[1m82s\u001b[0m 60ms/step - accuracy: 0.8970 - loss: 0.2756 - val_accuracy: 0.8986 - val_loss: 0.2828\n",
            "Epoch 5/10\n",
            "\u001b[1m750/750\u001b[0m \u001b[32m━━━━━━━━━━━━━━━━━━━━\u001b[0m\u001b[37m\u001b[0m \u001b[1m84s\u001b[0m 63ms/step - accuracy: 0.9098 - loss: 0.2479 - val_accuracy: 0.8999 - val_loss: 0.2767\n",
            "Epoch 6/10\n",
            "\u001b[1m750/750\u001b[0m \u001b[32m━━━━━━━━━━━━━━━━━━━━\u001b[0m\u001b[37m\u001b[0m \u001b[1m46s\u001b[0m 61ms/step - accuracy: 0.9188 - loss: 0.2207 - val_accuracy: 0.9076 - val_loss: 0.2580\n",
            "Epoch 7/10\n",
            "\u001b[1m750/750\u001b[0m \u001b[32m━━━━━━━━━━━━━━━━━━━━\u001b[0m\u001b[37m\u001b[0m \u001b[1m81s\u001b[0m 60ms/step - accuracy: 0.9244 - loss: 0.2047 - val_accuracy: 0.9089 - val_loss: 0.2718\n",
            "Epoch 8/10\n",
            "\u001b[1m750/750\u001b[0m \u001b[32m━━━━━━━━━━━━━━━━━━━━\u001b[0m\u001b[37m\u001b[0m \u001b[1m82s\u001b[0m 60ms/step - accuracy: 0.9306 - loss: 0.1885 - val_accuracy: 0.9065 - val_loss: 0.2657\n",
            "Epoch 9/10\n",
            "\u001b[1m750/750\u001b[0m \u001b[32m━━━━━━━━━━━━━━━━━━━━\u001b[0m\u001b[37m\u001b[0m \u001b[1m82s\u001b[0m 60ms/step - accuracy: 0.9350 - loss: 0.1730 - val_accuracy: 0.9094 - val_loss: 0.2569\n",
            "Epoch 10/10\n",
            "\u001b[1m750/750\u001b[0m \u001b[32m━━━━━━━━━━━━━━━━━━━━\u001b[0m\u001b[37m\u001b[0m \u001b[1m82s\u001b[0m 61ms/step - accuracy: 0.9426 - loss: 0.1552 - val_accuracy: 0.9128 - val_loss: 0.2516\n",
            "\u001b[1m313/313\u001b[0m \u001b[32m━━━━━━━━━━━━━━━━━━━━\u001b[0m\u001b[37m\u001b[0m \u001b[1m3s\u001b[0m 9ms/step - accuracy: 0.9118 - loss: 0.2744\n",
            "Точність на тестових даних: 0.9117000102996826\n"
          ]
        }
      ]
    },
    {
      "cell_type": "code",
      "source": [
        "from sklearn.metrics import classification_report\n",
        "import numpy as np\n",
        "\n",
        "# Прогнозування на тестових даних\n",
        "y_pred = model.predict(test_images)\n",
        "\n",
        "# Перетворюємо one-hot encoded мітки на звичайні\n",
        "y_pred_classes = np.argmax(y_pred, axis=1)\n",
        "y_true_classes = np.argmax(test_labels, axis=1)\n",
        "\n",
        "# Виведення classification_report\n",
        "report = classification_report(y_true_classes, y_pred_classes, target_names=[\n",
        "    'T-shirt/top', 'Trouser', 'Pullover', 'Dress', 'Coat',\n",
        "    'Sandal', 'Shirt', 'Sneaker', 'Bag', 'Ankle boot'])\n",
        "print(report)\n"
      ],
      "metadata": {
        "colab": {
          "base_uri": "https://localhost:8080/"
        },
        "id": "lU6EZTCx0qsP",
        "outputId": "d8db159c-3f93-4b5f-cc76-771ecba7f8ec"
      },
      "execution_count": null,
      "outputs": [
        {
          "output_type": "stream",
          "name": "stdout",
          "text": [
            "\u001b[1m313/313\u001b[0m \u001b[32m━━━━━━━━━━━━━━━━━━━━\u001b[0m\u001b[37m\u001b[0m \u001b[1m4s\u001b[0m 14ms/step\n",
            "              precision    recall  f1-score   support\n",
            "\n",
            " T-shirt/top       0.87      0.86      0.86      1000\n",
            "     Trouser       1.00      0.97      0.99      1000\n",
            "    Pullover       0.83      0.90      0.87      1000\n",
            "       Dress       0.92      0.91      0.91      1000\n",
            "        Coat       0.87      0.84      0.85      1000\n",
            "      Sandal       0.99      0.98      0.98      1000\n",
            "       Shirt       0.75      0.74      0.74      1000\n",
            "     Sneaker       0.95      0.97      0.96      1000\n",
            "         Bag       0.97      0.98      0.98      1000\n",
            "  Ankle boot       0.97      0.96      0.97      1000\n",
            "\n",
            "    accuracy                           0.91     10000\n",
            "   macro avg       0.91      0.91      0.91     10000\n",
            "weighted avg       0.91      0.91      0.91     10000\n",
            "\n"
          ]
        }
      ]
    },
    {
      "cell_type": "markdown",
      "source": [
        "Додавання регуляризації"
      ],
      "metadata": {
        "id": "SP_yvUtahySh"
      }
    },
    {
      "cell_type": "code",
      "source": [
        "# Побудова моделі\n",
        "model = models.Sequential()\n",
        "\n",
        "# Вхідний шар\n",
        "model.add(layers.Input(shape=(28, 28, 1)))\n",
        "\n",
        "# Шар згортки\n",
        "model.add(layers.Conv2D(32, (3, 3), activation='relu'))\n",
        "model.add(layers.MaxPooling2D((2, 2)))\n",
        "model.add(layers.Dropout(0.3))  # Додаємо Dropout після шару MaxPooling\n",
        "\n",
        "# Додаткові шари згортки\n",
        "model.add(layers.Conv2D(64, (3, 3), activation='relu'))\n",
        "model.add(layers.MaxPooling2D((2, 2)))\n",
        "model.add(layers.Dropout(0.3))  # Додаємо Dropout після шару MaxPooling\n",
        "\n",
        "model.add(layers.Conv2D(64, (3, 3), activation='relu'))\n",
        "\n",
        "# Перетворення до одного виміру\n",
        "model.add(layers.Flatten())\n",
        "\n",
        "# Щільний шар з регуляризацією (Dropout)\n",
        "model.add(layers.Dense(128, activation='relu'))\n",
        "model.add(layers.Dropout(0.4))  # Dropout після Dense шару\n",
        "\n",
        "# Вихідний шар\n",
        "model.add(layers.Dense(10, activation='softmax'))\n",
        "\n",
        "# Компіляція моделі\n",
        "model.compile(optimizer='adam',\n",
        "              loss='categorical_crossentropy',\n",
        "              metrics=['accuracy'])\n",
        "\n",
        "# Тренування моделі\n",
        "history = model.fit(train_images, train_labels, epochs=10, batch_size=64, validation_split=0.2)\n",
        "\n",
        "# Оцінка моделі\n",
        "test_loss, test_acc = model.evaluate(test_images, test_labels)\n",
        "print(f'Точність на тестових даних: {test_acc}')\n"
      ],
      "metadata": {
        "colab": {
          "base_uri": "https://localhost:8080/"
        },
        "id": "bm1cyYpfeGg2",
        "outputId": "bfc0f2cd-c098-4dfd-e618-86245d078947"
      },
      "execution_count": null,
      "outputs": [
        {
          "output_type": "stream",
          "name": "stdout",
          "text": [
            "Epoch 1/10\n",
            "\u001b[1m750/750\u001b[0m \u001b[32m━━━━━━━━━━━━━━━━━━━━\u001b[0m\u001b[37m\u001b[0m \u001b[1m58s\u001b[0m 73ms/step - accuracy: 0.6332 - loss: 1.0022 - val_accuracy: 0.8390 - val_loss: 0.4345\n",
            "Epoch 2/10\n",
            "\u001b[1m750/750\u001b[0m \u001b[32m━━━━━━━━━━━━━━━━━━━━\u001b[0m\u001b[37m\u001b[0m \u001b[1m77s\u001b[0m 67ms/step - accuracy: 0.8277 - loss: 0.4727 - val_accuracy: 0.8684 - val_loss: 0.3564\n",
            "Epoch 3/10\n",
            "\u001b[1m750/750\u001b[0m \u001b[32m━━━━━━━━━━━━━━━━━━━━\u001b[0m\u001b[37m\u001b[0m \u001b[1m82s\u001b[0m 67ms/step - accuracy: 0.8543 - loss: 0.3994 - val_accuracy: 0.8639 - val_loss: 0.3629\n",
            "Epoch 4/10\n",
            "\u001b[1m750/750\u001b[0m \u001b[32m━━━━━━━━━━━━━━━━━━━━\u001b[0m\u001b[37m\u001b[0m \u001b[1m49s\u001b[0m 65ms/step - accuracy: 0.8673 - loss: 0.3653 - val_accuracy: 0.8915 - val_loss: 0.2982\n",
            "Epoch 5/10\n",
            "\u001b[1m750/750\u001b[0m \u001b[32m━━━━━━━━━━━━━━━━━━━━\u001b[0m\u001b[37m\u001b[0m \u001b[1m84s\u001b[0m 67ms/step - accuracy: 0.8780 - loss: 0.3384 - val_accuracy: 0.8918 - val_loss: 0.2892\n",
            "Epoch 6/10\n",
            "\u001b[1m750/750\u001b[0m \u001b[32m━━━━━━━━━━━━━━━━━━━━\u001b[0m\u001b[37m\u001b[0m \u001b[1m49s\u001b[0m 65ms/step - accuracy: 0.8823 - loss: 0.3203 - val_accuracy: 0.8923 - val_loss: 0.2852\n",
            "Epoch 7/10\n",
            "\u001b[1m750/750\u001b[0m \u001b[32m━━━━━━━━━━━━━━━━━━━━\u001b[0m\u001b[37m\u001b[0m \u001b[1m82s\u001b[0m 66ms/step - accuracy: 0.8903 - loss: 0.3028 - val_accuracy: 0.8993 - val_loss: 0.2693\n",
            "Epoch 8/10\n",
            "\u001b[1m750/750\u001b[0m \u001b[32m━━━━━━━━━━━━━━━━━━━━\u001b[0m\u001b[37m\u001b[0m \u001b[1m82s\u001b[0m 66ms/step - accuracy: 0.8894 - loss: 0.2982 - val_accuracy: 0.8986 - val_loss: 0.2635\n",
            "Epoch 9/10\n",
            "\u001b[1m750/750\u001b[0m \u001b[32m━━━━━━━━━━━━━━━━━━━━\u001b[0m\u001b[37m\u001b[0m \u001b[1m80s\u001b[0m 64ms/step - accuracy: 0.8977 - loss: 0.2781 - val_accuracy: 0.9024 - val_loss: 0.2584\n",
            "Epoch 10/10\n",
            "\u001b[1m750/750\u001b[0m \u001b[32m━━━━━━━━━━━━━━━━━━━━\u001b[0m\u001b[37m\u001b[0m \u001b[1m86s\u001b[0m 69ms/step - accuracy: 0.8973 - loss: 0.2771 - val_accuracy: 0.9027 - val_loss: 0.2580\n",
            "\u001b[1m313/313\u001b[0m \u001b[32m━━━━━━━━━━━━━━━━━━━━\u001b[0m\u001b[37m\u001b[0m \u001b[1m3s\u001b[0m 9ms/step - accuracy: 0.8994 - loss: 0.2788\n",
            "Точність на тестових даних: 0.902400016784668\n"
          ]
        }
      ]
    },
    {
      "cell_type": "code",
      "source": [
        "from sklearn.metrics import classification_report\n",
        "import numpy as np\n",
        "\n",
        "# Прогнозування на тестових даних\n",
        "y_pred = model.predict(test_images)\n",
        "\n",
        "# Перетворюємо one-hot encoded мітки на звичайні\n",
        "y_pred_classes = np.argmax(y_pred, axis=1)\n",
        "y_true_classes = np.argmax(test_labels, axis=1)\n",
        "\n",
        "# Виведення classification_report\n",
        "report = classification_report(y_true_classes, y_pred_classes, target_names=[\n",
        "    'T-shirt/top', 'Trouser', 'Pullover', 'Dress', 'Coat',\n",
        "    'Sandal', 'Shirt', 'Sneaker', 'Bag', 'Ankle boot'])\n",
        "print(report)"
      ],
      "metadata": {
        "colab": {
          "base_uri": "https://localhost:8080/"
        },
        "id": "xgaVdJHU4EbR",
        "outputId": "4a45caa8-ceb8-4e36-caed-4090c32495c2"
      },
      "execution_count": null,
      "outputs": [
        {
          "output_type": "stream",
          "name": "stdout",
          "text": [
            "\u001b[1m313/313\u001b[0m \u001b[32m━━━━━━━━━━━━━━━━━━━━\u001b[0m\u001b[37m\u001b[0m \u001b[1m4s\u001b[0m 13ms/step\n",
            "              precision    recall  f1-score   support\n",
            "\n",
            " T-shirt/top       0.86      0.85      0.86      1000\n",
            "     Trouser       0.99      0.98      0.98      1000\n",
            "    Pullover       0.86      0.86      0.86      1000\n",
            "       Dress       0.92      0.89      0.91      1000\n",
            "        Coat       0.84      0.84      0.84      1000\n",
            "      Sandal       0.99      0.97      0.98      1000\n",
            "       Shirt       0.69      0.73      0.71      1000\n",
            "     Sneaker       0.93      0.98      0.96      1000\n",
            "         Bag       0.98      0.98      0.98      1000\n",
            "  Ankle boot       0.98      0.94      0.96      1000\n",
            "\n",
            "    accuracy                           0.90     10000\n",
            "   macro avg       0.90      0.90      0.90     10000\n",
            "weighted avg       0.90      0.90      0.90     10000\n",
            "\n"
          ]
        }
      ]
    },
    {
      "cell_type": "markdown",
      "source": [
        "Зміна кількості шарів, нейронів та епох"
      ],
      "metadata": {
        "id": "ZFebVChTjTVq"
      }
    },
    {
      "cell_type": "code",
      "source": [
        "# Побудова моделі\n",
        "model = models.Sequential()\n",
        "\n",
        "# Вхідний шар\n",
        "model.add(layers.Input(shape=(28, 28, 1)))\n",
        "\n",
        "# Шар згортки\n",
        "model.add(layers.Conv2D(32, (3, 3), activation='relu'))\n",
        "model.add(layers.MaxPooling2D((2, 2)))\n",
        "\n",
        "# Додаткові шари згортки\n",
        "model.add(layers.Conv2D(64, (3, 3), activation='relu'))\n",
        "model.add(layers.MaxPooling2D((2, 2)))\n",
        "\n",
        "model.add(layers.Conv2D(64, (3, 3), activation='relu'))\n",
        "\n",
        "# Перетворення до одного виміру\n",
        "model.add(layers.Flatten())\n",
        "\n",
        "# Щільні шари\n",
        "model.add(layers.Dense(256, activation='relu'))  # Додаємо Dense шар із 256 нейронами\n",
        "model.add(layers.Dense(128, activation='relu'))  # Додаємо ще один Dense шар із 128 нейронами\n",
        "\n",
        "# Вихідний шар\n",
        "model.add(layers.Dense(10, activation='softmax'))\n",
        "\n",
        "# Компіляція моделі\n",
        "model.compile(optimizer='adam',\n",
        "              loss='categorical_crossentropy',\n",
        "              metrics=['accuracy'])\n",
        "\n",
        "# Тренування моделі\n",
        "history = model.fit(train_images, train_labels, epochs=20, batch_size=64, validation_split=0.2)\n",
        "\n",
        "# Оцінка моделі\n",
        "test_loss, test_acc = model.evaluate(test_images, test_labels)\n",
        "print(f'Точність на тестових даних: {test_acc}')"
      ],
      "metadata": {
        "colab": {
          "base_uri": "https://localhost:8080/"
        },
        "id": "4SijE9m2i_vn",
        "outputId": "c5e6827f-2470-4bba-ec03-42751aa5425f"
      },
      "execution_count": null,
      "outputs": [
        {
          "output_type": "stream",
          "name": "stdout",
          "text": [
            "Epoch 1/20\n",
            "\u001b[1m750/750\u001b[0m \u001b[32m━━━━━━━━━━━━━━━━━━━━\u001b[0m\u001b[37m\u001b[0m \u001b[1m56s\u001b[0m 72ms/step - accuracy: 0.6942 - loss: 0.8206 - val_accuracy: 0.8470 - val_loss: 0.4209\n",
            "Epoch 2/20\n",
            "\u001b[1m750/750\u001b[0m \u001b[32m━━━━━━━━━━━━━━━━━━━━\u001b[0m\u001b[37m\u001b[0m \u001b[1m77s\u001b[0m 65ms/step - accuracy: 0.8643 - loss: 0.3686 - val_accuracy: 0.8791 - val_loss: 0.3311\n",
            "Epoch 3/20\n",
            "\u001b[1m750/750\u001b[0m \u001b[32m━━━━━━━━━━━━━━━━━━━━\u001b[0m\u001b[37m\u001b[0m \u001b[1m82s\u001b[0m 65ms/step - accuracy: 0.8914 - loss: 0.2929 - val_accuracy: 0.8907 - val_loss: 0.3107\n",
            "Epoch 4/20\n",
            "\u001b[1m750/750\u001b[0m \u001b[32m━━━━━━━━━━━━━━━━━━━━\u001b[0m\u001b[37m\u001b[0m \u001b[1m80s\u001b[0m 63ms/step - accuracy: 0.9019 - loss: 0.2639 - val_accuracy: 0.8944 - val_loss: 0.2892\n",
            "Epoch 5/20\n",
            "\u001b[1m750/750\u001b[0m \u001b[32m━━━━━━━━━━━━━━━━━━━━\u001b[0m\u001b[37m\u001b[0m \u001b[1m49s\u001b[0m 66ms/step - accuracy: 0.9120 - loss: 0.2358 - val_accuracy: 0.9018 - val_loss: 0.2689\n",
            "Epoch 6/20\n",
            "\u001b[1m750/750\u001b[0m \u001b[32m━━━━━━━━━━━━━━━━━━━━\u001b[0m\u001b[37m\u001b[0m \u001b[1m47s\u001b[0m 62ms/step - accuracy: 0.9230 - loss: 0.2104 - val_accuracy: 0.8986 - val_loss: 0.2872\n",
            "Epoch 7/20\n",
            "\u001b[1m750/750\u001b[0m \u001b[32m━━━━━━━━━━━━━━━━━━━━\u001b[0m\u001b[37m\u001b[0m \u001b[1m83s\u001b[0m 64ms/step - accuracy: 0.9303 - loss: 0.1902 - val_accuracy: 0.9081 - val_loss: 0.2597\n",
            "Epoch 8/20\n",
            "\u001b[1m750/750\u001b[0m \u001b[32m━━━━━━━━━━━━━━━━━━━━\u001b[0m\u001b[37m\u001b[0m \u001b[1m81s\u001b[0m 63ms/step - accuracy: 0.9365 - loss: 0.1719 - val_accuracy: 0.9013 - val_loss: 0.2818\n",
            "Epoch 9/20\n",
            "\u001b[1m750/750\u001b[0m \u001b[32m━━━━━━━━━━━━━━━━━━━━\u001b[0m\u001b[37m\u001b[0m \u001b[1m81s\u001b[0m 62ms/step - accuracy: 0.9413 - loss: 0.1555 - val_accuracy: 0.9032 - val_loss: 0.2688\n",
            "Epoch 10/20\n",
            "\u001b[1m750/750\u001b[0m \u001b[32m━━━━━━━━━━━━━━━━━━━━\u001b[0m\u001b[37m\u001b[0m \u001b[1m45s\u001b[0m 60ms/step - accuracy: 0.9449 - loss: 0.1448 - val_accuracy: 0.8984 - val_loss: 0.2920\n",
            "Epoch 11/20\n",
            "\u001b[1m750/750\u001b[0m \u001b[32m━━━━━━━━━━━━━━━━━━━━\u001b[0m\u001b[37m\u001b[0m \u001b[1m84s\u001b[0m 63ms/step - accuracy: 0.9516 - loss: 0.1302 - val_accuracy: 0.9098 - val_loss: 0.2801\n",
            "Epoch 12/20\n",
            "\u001b[1m750/750\u001b[0m \u001b[32m━━━━━━━━━━━━━━━━━━━━\u001b[0m\u001b[37m\u001b[0m \u001b[1m80s\u001b[0m 61ms/step - accuracy: 0.9572 - loss: 0.1158 - val_accuracy: 0.9097 - val_loss: 0.2971\n",
            "Epoch 13/20\n",
            "\u001b[1m750/750\u001b[0m \u001b[32m━━━━━━━━━━━━━━━━━━━━\u001b[0m\u001b[37m\u001b[0m \u001b[1m82s\u001b[0m 60ms/step - accuracy: 0.9608 - loss: 0.1012 - val_accuracy: 0.9075 - val_loss: 0.2891\n",
            "Epoch 14/20\n",
            "\u001b[1m750/750\u001b[0m \u001b[32m━━━━━━━━━━━━━━━━━━━━\u001b[0m\u001b[37m\u001b[0m \u001b[1m84s\u001b[0m 63ms/step - accuracy: 0.9657 - loss: 0.0892 - val_accuracy: 0.9081 - val_loss: 0.3379\n",
            "Epoch 15/20\n",
            "\u001b[1m750/750\u001b[0m \u001b[32m━━━━━━━━━━━━━━━━━━━━\u001b[0m\u001b[37m\u001b[0m \u001b[1m80s\u001b[0m 61ms/step - accuracy: 0.9673 - loss: 0.0859 - val_accuracy: 0.9079 - val_loss: 0.3193\n",
            "Epoch 16/20\n",
            "\u001b[1m750/750\u001b[0m \u001b[32m━━━━━━━━━━━━━━━━━━━━\u001b[0m\u001b[37m\u001b[0m \u001b[1m45s\u001b[0m 60ms/step - accuracy: 0.9724 - loss: 0.0719 - val_accuracy: 0.8959 - val_loss: 0.3815\n",
            "Epoch 17/20\n",
            "\u001b[1m750/750\u001b[0m \u001b[32m━━━━━━━━━━━━━━━━━━━━\u001b[0m\u001b[37m\u001b[0m \u001b[1m84s\u001b[0m 63ms/step - accuracy: 0.9740 - loss: 0.0736 - val_accuracy: 0.9061 - val_loss: 0.3630\n",
            "Epoch 18/20\n",
            "\u001b[1m750/750\u001b[0m \u001b[32m━━━━━━━━━━━━━━━━━━━━\u001b[0m\u001b[37m\u001b[0m \u001b[1m81s\u001b[0m 61ms/step - accuracy: 0.9784 - loss: 0.0604 - val_accuracy: 0.9039 - val_loss: 0.3900\n",
            "Epoch 19/20\n",
            "\u001b[1m750/750\u001b[0m \u001b[32m━━━━━━━━━━━━━━━━━━━━\u001b[0m\u001b[37m\u001b[0m \u001b[1m45s\u001b[0m 60ms/step - accuracy: 0.9792 - loss: 0.0581 - val_accuracy: 0.9051 - val_loss: 0.3990\n",
            "Epoch 20/20\n",
            "\u001b[1m750/750\u001b[0m \u001b[32m━━━━━━━━━━━━━━━━━━━━\u001b[0m\u001b[37m\u001b[0m \u001b[1m46s\u001b[0m 62ms/step - accuracy: 0.9815 - loss: 0.0524 - val_accuracy: 0.9085 - val_loss: 0.4364\n",
            "\u001b[1m313/313\u001b[0m \u001b[32m━━━━━━━━━━━━━━━━━━━━\u001b[0m\u001b[37m\u001b[0m \u001b[1m4s\u001b[0m 12ms/step - accuracy: 0.9024 - loss: 0.4743\n",
            "Точність на тестових даних: 0.9018999934196472\n"
          ]
        }
      ]
    },
    {
      "cell_type": "code",
      "source": [
        "from sklearn.metrics import classification_report\n",
        "import numpy as np\n",
        "\n",
        "# Прогнозування на тестових даних\n",
        "y_pred = model.predict(test_images)\n",
        "\n",
        "# Перетворюємо one-hot encoded мітки на звичайні\n",
        "y_pred_classes = np.argmax(y_pred, axis=1)\n",
        "y_true_classes = np.argmax(test_labels, axis=1)\n",
        "\n",
        "# Виведення classification_report\n",
        "report = classification_report(y_true_classes, y_pred_classes, target_names=[\n",
        "    'T-shirt/top', 'Trouser', 'Pullover', 'Dress', 'Coat',\n",
        "    'Sandal', 'Shirt', 'Sneaker', 'Bag', 'Ankle boot'])\n",
        "print(report)"
      ],
      "metadata": {
        "colab": {
          "base_uri": "https://localhost:8080/"
        },
        "id": "lad5l7Kn-8sq",
        "outputId": "5c5597cd-99eb-4216-f498-2ba8afff3071"
      },
      "execution_count": null,
      "outputs": [
        {
          "output_type": "stream",
          "name": "stdout",
          "text": [
            "\u001b[1m313/313\u001b[0m \u001b[32m━━━━━━━━━━━━━━━━━━━━\u001b[0m\u001b[37m\u001b[0m \u001b[1m4s\u001b[0m 12ms/step\n",
            "              precision    recall  f1-score   support\n",
            "\n",
            " T-shirt/top       0.83      0.87      0.85      1000\n",
            "     Trouser       0.99      0.97      0.98      1000\n",
            "    Pullover       0.83      0.88      0.85      1000\n",
            "       Dress       0.89      0.93      0.91      1000\n",
            "        Coat       0.88      0.81      0.84      1000\n",
            "      Sandal       0.97      0.98      0.98      1000\n",
            "       Shirt       0.76      0.68      0.72      1000\n",
            "     Sneaker       0.93      0.98      0.95      1000\n",
            "         Bag       0.95      0.98      0.97      1000\n",
            "  Ankle boot       0.99      0.93      0.96      1000\n",
            "\n",
            "    accuracy                           0.90     10000\n",
            "   macro avg       0.90      0.90      0.90     10000\n",
            "weighted avg       0.90      0.90      0.90     10000\n",
            "\n"
          ]
        }
      ]
    },
    {
      "cell_type": "code",
      "source": [
        "from keras.optimizers import RMSprop\n",
        "\n",
        "model.compile(optimizer=RMSprop(learning_rate=0.001),\n",
        "              loss='categorical_crossentropy',\n",
        "              metrics=['accuracy'])\n",
        "# Тренування моделі\n",
        "history = model.fit(train_images, train_labels, epochs=20, batch_size=64, validation_split=0.2)\n",
        "\n",
        "# Оцінка моделі\n",
        "test_loss, test_acc = model.evaluate(test_images, test_labels)\n",
        "print(f'Точність на тестових даних: {test_acc}')"
      ],
      "metadata": {
        "colab": {
          "base_uri": "https://localhost:8080/"
        },
        "id": "80rpwtBlpK8j",
        "outputId": "39d48fe3-c6e5-4b39-91b7-3008d6af980c"
      },
      "execution_count": null,
      "outputs": [
        {
          "output_type": "stream",
          "name": "stdout",
          "text": [
            "Epoch 1/20\n",
            "\u001b[1m750/750\u001b[0m \u001b[32m━━━━━━━━━━━━━━━━━━━━\u001b[0m\u001b[37m\u001b[0m \u001b[1m48s\u001b[0m 62ms/step - accuracy: 0.9833 - loss: 0.0486 - val_accuracy: 0.9096 - val_loss: 0.5352\n",
            "Epoch 2/20\n",
            "\u001b[1m750/750\u001b[0m \u001b[32m━━━━━━━━━━━━━━━━━━━━\u001b[0m\u001b[37m\u001b[0m \u001b[1m81s\u001b[0m 60ms/step - accuracy: 0.9863 - loss: 0.0368 - val_accuracy: 0.9071 - val_loss: 0.5771\n",
            "Epoch 3/20\n",
            "\u001b[1m750/750\u001b[0m \u001b[32m━━━━━━━━━━━━━━━━━━━━\u001b[0m\u001b[37m\u001b[0m \u001b[1m50s\u001b[0m 67ms/step - accuracy: 0.9874 - loss: 0.0351 - val_accuracy: 0.9082 - val_loss: 0.5851\n",
            "Epoch 4/20\n",
            "\u001b[1m750/750\u001b[0m \u001b[32m━━━━━━━━━━━━━━━━━━━━\u001b[0m\u001b[37m\u001b[0m \u001b[1m77s\u001b[0m 61ms/step - accuracy: 0.9879 - loss: 0.0354 - val_accuracy: 0.9060 - val_loss: 0.5926\n",
            "Epoch 5/20\n",
            "\u001b[1m750/750\u001b[0m \u001b[32m━━━━━━━━━━━━━━━━━━━━\u001b[0m\u001b[37m\u001b[0m \u001b[1m81s\u001b[0m 59ms/step - accuracy: 0.9875 - loss: 0.0340 - val_accuracy: 0.9077 - val_loss: 0.5984\n",
            "Epoch 6/20\n",
            "\u001b[1m750/750\u001b[0m \u001b[32m━━━━━━━━━━━━━━━━━━━━\u001b[0m\u001b[37m\u001b[0m \u001b[1m46s\u001b[0m 62ms/step - accuracy: 0.9886 - loss: 0.0317 - val_accuracy: 0.9046 - val_loss: 0.6445\n",
            "Epoch 7/20\n",
            "\u001b[1m750/750\u001b[0m \u001b[32m━━━━━━━━━━━━━━━━━━━━\u001b[0m\u001b[37m\u001b[0m \u001b[1m80s\u001b[0m 59ms/step - accuracy: 0.9895 - loss: 0.0308 - val_accuracy: 0.9087 - val_loss: 0.6871\n",
            "Epoch 8/20\n",
            "\u001b[1m750/750\u001b[0m \u001b[32m━━━━━━━━━━━━━━━━━━━━\u001b[0m\u001b[37m\u001b[0m \u001b[1m85s\u001b[0m 63ms/step - accuracy: 0.9898 - loss: 0.0289 - val_accuracy: 0.9097 - val_loss: 0.6956\n",
            "Epoch 9/20\n",
            "\u001b[1m750/750\u001b[0m \u001b[32m━━━━━━━━━━━━━━━━━━━━\u001b[0m\u001b[37m\u001b[0m \u001b[1m44s\u001b[0m 59ms/step - accuracy: 0.9902 - loss: 0.0265 - val_accuracy: 0.9118 - val_loss: 0.7873\n",
            "Epoch 10/20\n",
            "\u001b[1m750/750\u001b[0m \u001b[32m━━━━━━━━━━━━━━━━━━━━\u001b[0m\u001b[37m\u001b[0m \u001b[1m83s\u001b[0m 60ms/step - accuracy: 0.9909 - loss: 0.0265 - val_accuracy: 0.9035 - val_loss: 0.7959\n",
            "Epoch 11/20\n",
            "\u001b[1m750/750\u001b[0m \u001b[32m━━━━━━━━━━━━━━━━━━━━\u001b[0m\u001b[37m\u001b[0m \u001b[1m45s\u001b[0m 59ms/step - accuracy: 0.9906 - loss: 0.0297 - val_accuracy: 0.9071 - val_loss: 0.8032\n",
            "Epoch 12/20\n",
            "\u001b[1m750/750\u001b[0m \u001b[32m━━━━━━━━━━━━━━━━━━━━\u001b[0m\u001b[37m\u001b[0m \u001b[1m82s\u001b[0m 60ms/step - accuracy: 0.9920 - loss: 0.0241 - val_accuracy: 0.9077 - val_loss: 0.7777\n",
            "Epoch 13/20\n",
            "\u001b[1m750/750\u001b[0m \u001b[32m━━━━━━━━━━━━━━━━━━━━\u001b[0m\u001b[37m\u001b[0m \u001b[1m83s\u001b[0m 61ms/step - accuracy: 0.9920 - loss: 0.0233 - val_accuracy: 0.9070 - val_loss: 0.7767\n",
            "Epoch 14/20\n",
            "\u001b[1m750/750\u001b[0m \u001b[32m━━━━━━━━━━━━━━━━━━━━\u001b[0m\u001b[37m\u001b[0m \u001b[1m81s\u001b[0m 60ms/step - accuracy: 0.9923 - loss: 0.0232 - val_accuracy: 0.9068 - val_loss: 0.8364\n",
            "Epoch 15/20\n",
            "\u001b[1m750/750\u001b[0m \u001b[32m━━━━━━━━━━━━━━━━━━━━\u001b[0m\u001b[37m\u001b[0m \u001b[1m82s\u001b[0m 61ms/step - accuracy: 0.9914 - loss: 0.0252 - val_accuracy: 0.9077 - val_loss: 0.9513\n",
            "Epoch 16/20\n",
            "\u001b[1m750/750\u001b[0m \u001b[32m━━━━━━━━━━━━━━━━━━━━\u001b[0m\u001b[37m\u001b[0m \u001b[1m81s\u001b[0m 60ms/step - accuracy: 0.9922 - loss: 0.0258 - val_accuracy: 0.9061 - val_loss: 0.9118\n",
            "Epoch 17/20\n",
            "\u001b[1m750/750\u001b[0m \u001b[32m━━━━━━━━━━━━━━━━━━━━\u001b[0m\u001b[37m\u001b[0m \u001b[1m82s\u001b[0m 60ms/step - accuracy: 0.9923 - loss: 0.0223 - val_accuracy: 0.9071 - val_loss: 0.9377\n",
            "Epoch 18/20\n",
            "\u001b[1m750/750\u001b[0m \u001b[32m━━━━━━━━━━━━━━━━━━━━\u001b[0m\u001b[37m\u001b[0m \u001b[1m83s\u001b[0m 62ms/step - accuracy: 0.9924 - loss: 0.0243 - val_accuracy: 0.9053 - val_loss: 0.8864\n",
            "Epoch 19/20\n",
            "\u001b[1m750/750\u001b[0m \u001b[32m━━━━━━━━━━━━━━━━━━━━\u001b[0m\u001b[37m\u001b[0m \u001b[1m80s\u001b[0m 59ms/step - accuracy: 0.9931 - loss: 0.0212 - val_accuracy: 0.9100 - val_loss: 0.8559\n",
            "Epoch 20/20\n",
            "\u001b[1m750/750\u001b[0m \u001b[32m━━━━━━━━━━━━━━━━━━━━\u001b[0m\u001b[37m\u001b[0m \u001b[1m83s\u001b[0m 61ms/step - accuracy: 0.9928 - loss: 0.0194 - val_accuracy: 0.9081 - val_loss: 0.9071\n",
            "\u001b[1m313/313\u001b[0m \u001b[32m━━━━━━━━━━━━━━━━━━━━\u001b[0m\u001b[37m\u001b[0m \u001b[1m3s\u001b[0m 10ms/step - accuracy: 0.9071 - loss: 1.0577\n",
            "Точність на тестових даних: 0.9068999886512756\n"
          ]
        }
      ]
    },
    {
      "cell_type": "code",
      "source": [
        "from sklearn.metrics import classification_report\n",
        "import numpy as np\n",
        "\n",
        "# Прогнозування на тестових даних\n",
        "y_pred = model.predict(test_images)\n",
        "\n",
        "# Перетворюємо one-hot encoded мітки на звичайні\n",
        "y_pred_classes = np.argmax(y_pred, axis=1)\n",
        "y_true_classes = np.argmax(test_labels, axis=1)\n",
        "\n",
        "# Виведення classification_report\n",
        "report = classification_report(y_true_classes, y_pred_classes, target_names=[\n",
        "    'T-shirt/top', 'Trouser', 'Pullover', 'Dress', 'Coat',\n",
        "    'Sandal', 'Shirt', 'Sneaker', 'Bag', 'Ankle boot'])\n",
        "print(report)\n"
      ],
      "metadata": {
        "colab": {
          "base_uri": "https://localhost:8080/"
        },
        "id": "J13J3wWAwGYE",
        "outputId": "4f544c51-d377-471e-ecf8-b7610db072e3"
      },
      "execution_count": null,
      "outputs": [
        {
          "output_type": "stream",
          "name": "stdout",
          "text": [
            "\u001b[1m313/313\u001b[0m \u001b[32m━━━━━━━━━━━━━━━━━━━━\u001b[0m\u001b[37m\u001b[0m \u001b[1m4s\u001b[0m 12ms/step\n",
            "              precision    recall  f1-score   support\n",
            "\n",
            " T-shirt/top       0.85      0.85      0.85      1000\n",
            "     Trouser       0.99      0.98      0.99      1000\n",
            "    Pullover       0.82      0.89      0.85      1000\n",
            "       Dress       0.89      0.93      0.91      1000\n",
            "        Coat       0.87      0.86      0.86      1000\n",
            "      Sandal       0.97      0.98      0.98      1000\n",
            "       Shirt       0.77      0.70      0.73      1000\n",
            "     Sneaker       0.94      0.96      0.95      1000\n",
            "         Bag       0.99      0.97      0.98      1000\n",
            "  Ankle boot       0.97      0.95      0.96      1000\n",
            "\n",
            "    accuracy                           0.91     10000\n",
            "   macro avg       0.91      0.91      0.91     10000\n",
            "weighted avg       0.91      0.91      0.91     10000\n",
            "\n"
          ]
        }
      ]
    },
    {
      "cell_type": "markdown",
      "source": [
        "Висновок. Перша і остання моделі дають достатню точність - 91 %."
      ],
      "metadata": {
        "id": "C_QAGfqkFmGu"
      }
    },
    {
      "cell_type": "markdown",
      "source": [
        "Згорткова нейронна мережа (CNN) значно перевершує багатошарову мережу (MLP) у задачах класифікації зображень, оскільки вона краще працює з просторовими структурами зображень та може ефективніше розрізняти схожі класи.\n",
        "\n",
        "MLP має свої переваги у швидкості навчання і простоті, проте для класифікації зображень CNN є кращим вибором.\n",
        "Зважаючи на це, CNN є більш підходящою архітектурою для класифікації даних типу Fashion MNIST."
      ],
      "metadata": {
        "id": "PBTq2h-vI0Ns"
      }
    },
    {
      "cell_type": "code",
      "source": [
        "import tensorflow as tf\n",
        "from tensorflow.keras import layers, models\n",
        "from tensorflow.keras.applications import VGG16\n",
        "from tensorflow.keras.datasets import fashion_mnist\n",
        "import matplotlib.pyplot as plt\n",
        "import numpy as np"
      ],
      "metadata": {
        "id": "RgwrmS7s5YD5"
      },
      "execution_count": 1,
      "outputs": []
    },
    {
      "cell_type": "code",
      "execution_count": 2,
      "metadata": {
        "id": "c67d47a0-9ac5-4fc1-8929-e6ff0accb437",
        "colab": {
          "base_uri": "https://localhost:8080/"
        },
        "outputId": "58bfe4df-0a7f-4b7a-c0ed-aa6bd6d3c0c1"
      },
      "outputs": [
        {
          "output_type": "stream",
          "name": "stdout",
          "text": [
            "Downloading data from https://storage.googleapis.com/tensorflow/tf-keras-datasets/train-labels-idx1-ubyte.gz\n",
            "\u001b[1m29515/29515\u001b[0m \u001b[32m━━━━━━━━━━━━━━━━━━━━\u001b[0m\u001b[37m\u001b[0m \u001b[1m0s\u001b[0m 0us/step\n",
            "Downloading data from https://storage.googleapis.com/tensorflow/tf-keras-datasets/train-images-idx3-ubyte.gz\n",
            "\u001b[1m26421880/26421880\u001b[0m \u001b[32m━━━━━━━━━━━━━━━━━━━━\u001b[0m\u001b[37m\u001b[0m \u001b[1m0s\u001b[0m 0us/step\n",
            "Downloading data from https://storage.googleapis.com/tensorflow/tf-keras-datasets/t10k-labels-idx1-ubyte.gz\n",
            "\u001b[1m5148/5148\u001b[0m \u001b[32m━━━━━━━━━━━━━━━━━━━━\u001b[0m\u001b[37m\u001b[0m \u001b[1m0s\u001b[0m 0us/step\n",
            "Downloading data from https://storage.googleapis.com/tensorflow/tf-keras-datasets/t10k-images-idx3-ubyte.gz\n",
            "\u001b[1m4422102/4422102\u001b[0m \u001b[32m━━━━━━━━━━━━━━━━━━━━\u001b[0m\u001b[37m\u001b[0m \u001b[1m0s\u001b[0m 0us/step\n"
          ]
        }
      ],
      "source": [
        "# Завантаження та підготовка даних\n",
        "(train_images, train_labels), (test_images, test_labels) = fashion_mnist.load_data()"
      ]
    },
    {
      "cell_type": "code",
      "execution_count": 3,
      "metadata": {
        "id": "b9850af6-7d60-4874-8d9d-b9f6321c9f9e"
      },
      "outputs": [],
      "source": [
        "# Перетворення зображень у формат RGB (VGG16 очікує 3 канали)\n",
        "train_images = tf.image.grayscale_to_rgb(tf.expand_dims(train_images, -1))\n",
        "test_images = tf.image.grayscale_to_rgb(tf.expand_dims(test_images, -1))"
      ]
    },
    {
      "cell_type": "code",
      "execution_count": 4,
      "metadata": {
        "id": "e710c244-64bf-4bb4-886a-42185a7ff68d"
      },
      "outputs": [],
      "source": [
        "# Перетворення в float32 і нормалізація даних\n",
        "train_images = tf.cast(train_images, tf.float32) / 255.0\n",
        "test_images = tf.cast(test_images, tf.float32) / 255.0"
      ]
    },
    {
      "cell_type": "code",
      "execution_count": 5,
      "metadata": {
        "id": "ed5d3435-5ef6-41c4-89c5-6db706a6cbcf"
      },
      "outputs": [],
      "source": [
        "# Зміна розміру зображень до 32x32 (найменший розмір, який підтримує VGG16)\n",
        "train_images = tf.image.resize(train_images, (32, 32))\n",
        "test_images = tf.image.resize(test_images, (32, 32))"
      ]
    },
    {
      "cell_type": "code",
      "execution_count": 6,
      "metadata": {
        "id": "01d305c9-052c-41aa-bf71-430871962a96",
        "colab": {
          "base_uri": "https://localhost:8080/"
        },
        "outputId": "3e59421c-e640-4455-dede-f5be75c9bbe2"
      },
      "outputs": [
        {
          "output_type": "stream",
          "name": "stdout",
          "text": [
            "Downloading data from https://storage.googleapis.com/tensorflow/keras-applications/vgg16/vgg16_weights_tf_dim_ordering_tf_kernels_notop.h5\n",
            "\u001b[1m58889256/58889256\u001b[0m \u001b[32m━━━━━━━━━━━━━━━━━━━━\u001b[0m\u001b[37m\u001b[0m \u001b[1m1s\u001b[0m 0us/step\n"
          ]
        }
      ],
      "source": [
        "# Завантаження VGG16 без верхніх шарів\n",
        "base_model = VGG16(weights='imagenet', include_top=False, input_shape=(32, 32, 3))"
      ]
    },
    {
      "cell_type": "code",
      "execution_count": 7,
      "metadata": {
        "id": "c2a760b7-9c6a-4229-aceb-18c557df5377"
      },
      "outputs": [],
      "source": [
        "# Заморожування перших шарів (виділення ознак)\n",
        "for layer in base_model.layers[:-4]:\n",
        "    layer.trainable = False"
      ]
    },
    {
      "cell_type": "code",
      "execution_count": 8,
      "metadata": {
        "id": "efe650da-211e-4373-b00d-daec724545d2"
      },
      "outputs": [],
      "source": [
        "# Створення моделі\n",
        "model = models.Sequential([\n",
        "    base_model,\n",
        "    layers.GlobalAveragePooling2D(),\n",
        "    layers.Dense(256, activation='relu'),\n",
        "    layers.Dropout(0.3),\n",
        "    layers.Dense(10, activation='sigmoid')\n",
        "])"
      ]
    },
    {
      "cell_type": "code",
      "execution_count": 9,
      "metadata": {
        "id": "6ee97ffa-2995-4279-a821-bbf4ba64a3ea"
      },
      "outputs": [],
      "source": [
        "# Компіляція моделі\n",
        "model.compile(optimizer=tf.keras.optimizers.Adam(learning_rate=0.001),\n",
        "              loss='sparse_categorical_crossentropy',\n",
        "              metrics=['accuracy'])"
      ]
    },
    {
      "cell_type": "code",
      "source": [
        "# Функція для зміни швидкості навчання\n",
        "def scheduler(epoch, lr):\n",
        "  if epoch < 5:\n",
        "    return lr\n",
        "  else:\n",
        "    return float(lr * np.exp(-0.1))\n",
        "\n",
        "callback = tf.keras.callbacks.LearningRateScheduler(scheduler)"
      ],
      "metadata": {
        "id": "Qhr_KHh7KdsH"
      },
      "execution_count": 10,
      "outputs": []
    },
    {
      "cell_type": "code",
      "source": [
        "# Тренування моделі\n",
        "history = model.fit(train_images, train_labels, epochs=30,\n",
        "                    validation_split=0.2,\n",
        "                    batch_size=128,\n",
        "                    callbacks=[callback])"
      ],
      "metadata": {
        "colab": {
          "base_uri": "https://localhost:8080/"
        },
        "id": "ucLnrpyG6sMO",
        "outputId": "05314e78-4241-439c-9f2b-4b538ed1ed6d"
      },
      "execution_count": 11,
      "outputs": [
        {
          "output_type": "stream",
          "name": "stdout",
          "text": [
            "Epoch 1/30\n",
            "\u001b[1m375/375\u001b[0m \u001b[32m━━━━━━━━━━━━━━━━━━━━\u001b[0m\u001b[37m\u001b[0m \u001b[1m24s\u001b[0m 35ms/step - accuracy: 0.7443 - loss: 0.7145 - val_accuracy: 0.8598 - val_loss: 0.3752 - learning_rate: 0.0010\n",
            "Epoch 2/30\n",
            "\u001b[1m375/375\u001b[0m \u001b[32m━━━━━━━━━━━━━━━━━━━━\u001b[0m\u001b[37m\u001b[0m \u001b[1m10s\u001b[0m 23ms/step - accuracy: 0.8823 - loss: 0.3319 - val_accuracy: 0.8866 - val_loss: 0.3312 - learning_rate: 0.0010\n",
            "Epoch 3/30\n",
            "\u001b[1m375/375\u001b[0m \u001b[32m━━━━━━━━━━━━━━━━━━━━\u001b[0m\u001b[37m\u001b[0m \u001b[1m9s\u001b[0m 24ms/step - accuracy: 0.8971 - loss: 0.2904 - val_accuracy: 0.8957 - val_loss: 0.2959 - learning_rate: 0.0010\n",
            "Epoch 4/30\n",
            "\u001b[1m375/375\u001b[0m \u001b[32m━━━━━━━━━━━━━━━━━━━━\u001b[0m\u001b[37m\u001b[0m \u001b[1m10s\u001b[0m 24ms/step - accuracy: 0.9029 - loss: 0.2603 - val_accuracy: 0.9056 - val_loss: 0.2715 - learning_rate: 0.0010\n",
            "Epoch 5/30\n",
            "\u001b[1m375/375\u001b[0m \u001b[32m━━━━━━━━━━━━━━━━━━━━\u001b[0m\u001b[37m\u001b[0m \u001b[1m10s\u001b[0m 27ms/step - accuracy: 0.9064 - loss: 0.2464 - val_accuracy: 0.8917 - val_loss: 0.2936 - learning_rate: 0.0010\n",
            "Epoch 6/30\n",
            "\u001b[1m375/375\u001b[0m \u001b[32m━━━━━━━━━━━━━━━━━━━━\u001b[0m\u001b[37m\u001b[0m \u001b[1m9s\u001b[0m 24ms/step - accuracy: 0.9075 - loss: 0.2181 - val_accuracy: 0.8932 - val_loss: 0.2875 - learning_rate: 9.0484e-04\n",
            "Epoch 7/30\n",
            "\u001b[1m375/375\u001b[0m \u001b[32m━━━━━━━━━━━━━━━━━━━━\u001b[0m\u001b[37m\u001b[0m \u001b[1m10s\u001b[0m 24ms/step - accuracy: 0.9071 - loss: 0.2077 - val_accuracy: 0.9022 - val_loss: 0.2842 - learning_rate: 8.1873e-04\n",
            "Epoch 8/30\n",
            "\u001b[1m375/375\u001b[0m \u001b[32m━━━━━━━━━━━━━━━━━━━━\u001b[0m\u001b[37m\u001b[0m \u001b[1m10s\u001b[0m 25ms/step - accuracy: 0.9306 - loss: 0.1857 - val_accuracy: 0.8995 - val_loss: 0.3075 - learning_rate: 7.4082e-04\n",
            "Epoch 9/30\n",
            "\u001b[1m375/375\u001b[0m \u001b[32m━━━━━━━━━━━━━━━━━━━━\u001b[0m\u001b[37m\u001b[0m \u001b[1m10s\u001b[0m 28ms/step - accuracy: 0.9305 - loss: 0.1785 - val_accuracy: 0.9114 - val_loss: 0.2544 - learning_rate: 6.7032e-04\n",
            "Epoch 10/30\n",
            "\u001b[1m375/375\u001b[0m \u001b[32m━━━━━━━━━━━━━━━━━━━━\u001b[0m\u001b[37m\u001b[0m \u001b[1m9s\u001b[0m 24ms/step - accuracy: 0.9373 - loss: 0.1487 - val_accuracy: 0.9070 - val_loss: 0.2896 - learning_rate: 6.0653e-04\n",
            "Epoch 11/30\n",
            "\u001b[1m375/375\u001b[0m \u001b[32m━━━━━━━━━━━━━━━━━━━━\u001b[0m\u001b[37m\u001b[0m \u001b[1m9s\u001b[0m 24ms/step - accuracy: 0.9414 - loss: 0.1403 - val_accuracy: 0.9060 - val_loss: 0.2972 - learning_rate: 5.4881e-04\n",
            "Epoch 12/30\n",
            "\u001b[1m375/375\u001b[0m \u001b[32m━━━━━━━━━━━━━━━━━━━━\u001b[0m\u001b[37m\u001b[0m \u001b[1m9s\u001b[0m 24ms/step - accuracy: 0.9420 - loss: 0.1315 - val_accuracy: 0.9122 - val_loss: 0.3064 - learning_rate: 4.9659e-04\n",
            "Epoch 13/30\n",
            "\u001b[1m375/375\u001b[0m \u001b[32m━━━━━━━━━━━━━━━━━━━━\u001b[0m\u001b[37m\u001b[0m \u001b[1m10s\u001b[0m 24ms/step - accuracy: 0.9554 - loss: 0.1116 - val_accuracy: 0.9144 - val_loss: 0.3201 - learning_rate: 4.4933e-04\n",
            "Epoch 14/30\n",
            "\u001b[1m375/375\u001b[0m \u001b[32m━━━━━━━━━━━━━━━━━━━━\u001b[0m\u001b[37m\u001b[0m \u001b[1m9s\u001b[0m 24ms/step - accuracy: 0.9556 - loss: 0.1051 - val_accuracy: 0.9151 - val_loss: 0.3086 - learning_rate: 4.0657e-04\n",
            "Epoch 15/30\n",
            "\u001b[1m375/375\u001b[0m \u001b[32m━━━━━━━━━━━━━━━━━━━━\u001b[0m\u001b[37m\u001b[0m \u001b[1m9s\u001b[0m 24ms/step - accuracy: 0.9583 - loss: 0.0899 - val_accuracy: 0.9162 - val_loss: 0.3327 - learning_rate: 3.6788e-04\n",
            "Epoch 16/30\n",
            "\u001b[1m375/375\u001b[0m \u001b[32m━━━━━━━━━━━━━━━━━━━━\u001b[0m\u001b[37m\u001b[0m \u001b[1m10s\u001b[0m 24ms/step - accuracy: 0.9625 - loss: 0.0773 - val_accuracy: 0.9137 - val_loss: 0.3762 - learning_rate: 3.3287e-04\n",
            "Epoch 17/30\n",
            "\u001b[1m375/375\u001b[0m \u001b[32m━━━━━━━━━━━━━━━━━━━━\u001b[0m\u001b[37m\u001b[0m \u001b[1m10s\u001b[0m 24ms/step - accuracy: 0.9639 - loss: 0.0655 - val_accuracy: 0.9117 - val_loss: 0.3498 - learning_rate: 3.0119e-04\n",
            "Epoch 18/30\n",
            "\u001b[1m375/375\u001b[0m \u001b[32m━━━━━━━━━━━━━━━━━━━━\u001b[0m\u001b[37m\u001b[0m \u001b[1m11s\u001b[0m 27ms/step - accuracy: 0.9689 - loss: 0.0567 - val_accuracy: 0.9086 - val_loss: 0.4241 - learning_rate: 2.7253e-04\n",
            "Epoch 19/30\n",
            "\u001b[1m375/375\u001b[0m \u001b[32m━━━━━━━━━━━━━━━━━━━━\u001b[0m\u001b[37m\u001b[0m \u001b[1m9s\u001b[0m 24ms/step - accuracy: 0.9680 - loss: 0.0489 - val_accuracy: 0.9143 - val_loss: 0.4577 - learning_rate: 2.4660e-04\n",
            "Epoch 20/30\n",
            "\u001b[1m375/375\u001b[0m \u001b[32m━━━━━━━━━━━━━━━━━━━━\u001b[0m\u001b[37m\u001b[0m \u001b[1m9s\u001b[0m 24ms/step - accuracy: 0.9801 - loss: 0.0412 - val_accuracy: 0.9162 - val_loss: 0.5045 - learning_rate: 2.2313e-04\n",
            "Epoch 21/30\n",
            "\u001b[1m375/375\u001b[0m \u001b[32m━━━━━━━━━━━━━━━━━━━━\u001b[0m\u001b[37m\u001b[0m \u001b[1m9s\u001b[0m 24ms/step - accuracy: 0.9801 - loss: 0.0342 - val_accuracy: 0.9158 - val_loss: 0.5326 - learning_rate: 2.0190e-04\n",
            "Epoch 22/30\n",
            "\u001b[1m375/375\u001b[0m \u001b[32m━━━━━━━━━━━━━━━━━━━━\u001b[0m\u001b[37m\u001b[0m \u001b[1m11s\u001b[0m 27ms/step - accuracy: 0.9847 - loss: 0.0284 - val_accuracy: 0.9119 - val_loss: 0.6073 - learning_rate: 1.8268e-04\n",
            "Epoch 23/30\n",
            "\u001b[1m375/375\u001b[0m \u001b[32m━━━━━━━━━━━━━━━━━━━━\u001b[0m\u001b[37m\u001b[0m \u001b[1m19s\u001b[0m 24ms/step - accuracy: 0.9862 - loss: 0.0240 - val_accuracy: 0.9145 - val_loss: 0.6069 - learning_rate: 1.6530e-04\n",
            "Epoch 24/30\n",
            "\u001b[1m375/375\u001b[0m \u001b[32m━━━━━━━━━━━━━━━━━━━━\u001b[0m\u001b[37m\u001b[0m \u001b[1m9s\u001b[0m 24ms/step - accuracy: 0.9859 - loss: 0.0186 - val_accuracy: 0.9152 - val_loss: 0.6934 - learning_rate: 1.4957e-04\n",
            "Epoch 25/30\n",
            "\u001b[1m375/375\u001b[0m \u001b[32m━━━━━━━━━━━━━━━━━━━━\u001b[0m\u001b[37m\u001b[0m \u001b[1m10s\u001b[0m 24ms/step - accuracy: 0.9850 - loss: 0.0152 - val_accuracy: 0.9154 - val_loss: 0.6883 - learning_rate: 1.3534e-04\n",
            "Epoch 26/30\n",
            "\u001b[1m375/375\u001b[0m \u001b[32m━━━━━━━━━━━━━━━━━━━━\u001b[0m\u001b[37m\u001b[0m \u001b[1m10s\u001b[0m 27ms/step - accuracy: 0.9887 - loss: 0.0125 - val_accuracy: 0.9161 - val_loss: 0.7305 - learning_rate: 1.2246e-04\n",
            "Epoch 27/30\n",
            "\u001b[1m375/375\u001b[0m \u001b[32m━━━━━━━━━━━━━━━━━━━━\u001b[0m\u001b[37m\u001b[0m \u001b[1m19s\u001b[0m 24ms/step - accuracy: 0.9889 - loss: 0.0100 - val_accuracy: 0.9166 - val_loss: 0.7894 - learning_rate: 1.1080e-04\n",
            "Epoch 28/30\n",
            "\u001b[1m375/375\u001b[0m \u001b[32m━━━━━━━━━━━━━━━━━━━━\u001b[0m\u001b[37m\u001b[0m \u001b[1m10s\u001b[0m 24ms/step - accuracy: 0.9893 - loss: 0.0083 - val_accuracy: 0.9162 - val_loss: 0.8246 - learning_rate: 1.0026e-04\n",
            "Epoch 29/30\n",
            "\u001b[1m375/375\u001b[0m \u001b[32m━━━━━━━━━━━━━━━━━━━━\u001b[0m\u001b[37m\u001b[0m \u001b[1m9s\u001b[0m 24ms/step - accuracy: 0.9898 - loss: 0.0068 - val_accuracy: 0.9159 - val_loss: 0.8482 - learning_rate: 9.0718e-05\n",
            "Epoch 30/30\n",
            "\u001b[1m375/375\u001b[0m \u001b[32m━━━━━━━━━━━━━━━━━━━━\u001b[0m\u001b[37m\u001b[0m \u001b[1m10s\u001b[0m 24ms/step - accuracy: 0.9924 - loss: 0.0043 - val_accuracy: 0.9172 - val_loss: 0.8939 - learning_rate: 8.2085e-05\n"
          ]
        }
      ]
    },
    {
      "cell_type": "code",
      "source": [
        "# Оцінка моделі\n",
        "test_loss, test_acc = model.evaluate(test_images, test_labels, verbose=2)\n",
        "print(f'\\nТочність на тестових даних: {test_acc}')"
      ],
      "metadata": {
        "colab": {
          "base_uri": "https://localhost:8080/"
        },
        "id": "YUDjN4my7pp0",
        "outputId": "5cc6db0c-e18b-4891-82d1-267416b82b69"
      },
      "execution_count": 12,
      "outputs": [
        {
          "output_type": "stream",
          "name": "stdout",
          "text": [
            "313/313 - 6s - 18ms/step - accuracy: 0.9082 - loss: 0.9783\n",
            "\n",
            "Точність на тестових даних: 0.9082000255584717\n"
          ]
        }
      ]
    },
    {
      "cell_type": "code",
      "execution_count": 13,
      "metadata": {
        "id": "d2c7f340-714f-497a-8627-e3b3c8f18c03"
      },
      "outputs": [],
      "source": [
        "# Розморожування всіх шарів для тонкого налаштування\n",
        "base_model.trainable = True"
      ]
    },
    {
      "cell_type": "code",
      "execution_count": 14,
      "metadata": {
        "id": "af3cce2c-6644-43f9-a00e-be9cea70bd34"
      },
      "outputs": [],
      "source": [
        "# Перекомпіляція моделі\n",
        "model.compile(optimizer=tf.keras.optimizers.Adam(learning_rate=0.001),\n",
        "              loss='sparse_categorical_crossentropy',\n",
        "              metrics=['accuracy'])"
      ]
    },
    {
      "cell_type": "code",
      "source": [
        "# Донавчання моделі\n",
        "history_fine = model.fit(train_images, train_labels, epochs=15,\n",
        "                         validation_split=0.2,\n",
        "                         batch_size=64,\n",
        "                         callbacks=[callback])"
      ],
      "metadata": {
        "colab": {
          "base_uri": "https://localhost:8080/"
        },
        "id": "VKI_G8HJ7_KK",
        "outputId": "3821de21-fb09-4216-9fbb-c6c282cb4bda"
      },
      "execution_count": 15,
      "outputs": [
        {
          "output_type": "stream",
          "name": "stdout",
          "text": [
            "Epoch 1/15\n",
            "\u001b[1m750/750\u001b[0m \u001b[32m━━━━━━━━━━━━━━━━━━━━\u001b[0m\u001b[37m\u001b[0m \u001b[1m23s\u001b[0m 23ms/step - accuracy: 0.9283 - loss: 0.1931 - val_accuracy: 0.8238 - val_loss: 0.4186 - learning_rate: 0.0010\n",
            "Epoch 2/15\n",
            "\u001b[1m750/750\u001b[0m \u001b[32m━━━━━━━━━━━━━━━━━━━━\u001b[0m\u001b[37m\u001b[0m \u001b[1m34s\u001b[0m 19ms/step - accuracy: 0.8833 - loss: 0.1870 - val_accuracy: 0.8662 - val_loss: 0.3109 - learning_rate: 0.0010\n",
            "Epoch 3/15\n",
            "\u001b[1m750/750\u001b[0m \u001b[32m━━━━━━━━━━━━━━━━━━━━\u001b[0m\u001b[37m\u001b[0m \u001b[1m21s\u001b[0m 19ms/step - accuracy: 0.8906 - loss: 0.1637 - val_accuracy: 0.8825 - val_loss: 0.3131 - learning_rate: 0.0010\n",
            "Epoch 4/15\n",
            "\u001b[1m750/750\u001b[0m \u001b[32m━━━━━━━━━━━━━━━━━━━━\u001b[0m\u001b[37m\u001b[0m \u001b[1m20s\u001b[0m 19ms/step - accuracy: 0.8896 - loss: 0.1657 - val_accuracy: 0.8217 - val_loss: 0.3604 - learning_rate: 0.0010\n",
            "Epoch 5/15\n",
            "\u001b[1m750/750\u001b[0m \u001b[32m━━━━━━━━━━━━━━━━━━━━\u001b[0m\u001b[37m\u001b[0m \u001b[1m20s\u001b[0m 17ms/step - accuracy: 0.8928 - loss: 0.1563 - val_accuracy: 0.8438 - val_loss: 0.3029 - learning_rate: 0.0010\n",
            "Epoch 6/15\n",
            "\u001b[1m750/750\u001b[0m \u001b[32m━━━━━━━━━━━━━━━━━━━━\u001b[0m\u001b[37m\u001b[0m \u001b[1m13s\u001b[0m 17ms/step - accuracy: 0.8871 - loss: 0.1405 - val_accuracy: 0.8403 - val_loss: 0.3287 - learning_rate: 9.0484e-04\n",
            "Epoch 7/15\n",
            "\u001b[1m750/750\u001b[0m \u001b[32m━━━━━━━━━━━━━━━━━━━━\u001b[0m\u001b[37m\u001b[0m \u001b[1m20s\u001b[0m 17ms/step - accuracy: 0.8786 - loss: 0.1316 - val_accuracy: 0.8863 - val_loss: 0.3616 - learning_rate: 8.1873e-04\n",
            "Epoch 8/15\n",
            "\u001b[1m750/750\u001b[0m \u001b[32m━━━━━━━━━━━━━━━━━━━━\u001b[0m\u001b[37m\u001b[0m \u001b[1m14s\u001b[0m 19ms/step - accuracy: 0.9335 - loss: 0.1171 - val_accuracy: 0.9007 - val_loss: 0.3368 - learning_rate: 7.4082e-04\n",
            "Epoch 9/15\n",
            "\u001b[1m750/750\u001b[0m \u001b[32m━━━━━━━━━━━━━━━━━━━━\u001b[0m\u001b[37m\u001b[0m \u001b[1m13s\u001b[0m 17ms/step - accuracy: 0.9254 - loss: 0.1040 - val_accuracy: 0.8429 - val_loss: 0.3653 - learning_rate: 6.7032e-04\n",
            "Epoch 10/15\n",
            "\u001b[1m750/750\u001b[0m \u001b[32m━━━━━━━━━━━━━━━━━━━━\u001b[0m\u001b[37m\u001b[0m \u001b[1m21s\u001b[0m 19ms/step - accuracy: 0.9085 - loss: 0.0822 - val_accuracy: 0.8631 - val_loss: 0.3929 - learning_rate: 6.0653e-04\n",
            "Epoch 11/15\n",
            "\u001b[1m750/750\u001b[0m \u001b[32m━━━━━━━━━━━━━━━━━━━━\u001b[0m\u001b[37m\u001b[0m \u001b[1m21s\u001b[0m 19ms/step - accuracy: 0.9349 - loss: 0.0719 - val_accuracy: 0.9123 - val_loss: 0.4216 - learning_rate: 5.4881e-04\n",
            "Epoch 12/15\n",
            "\u001b[1m750/750\u001b[0m \u001b[32m━━━━━━━━━━━━━━━━━━━━\u001b[0m\u001b[37m\u001b[0m \u001b[1m13s\u001b[0m 18ms/step - accuracy: 0.9273 - loss: 0.0582 - val_accuracy: 0.8328 - val_loss: 0.4524 - learning_rate: 4.9659e-04\n",
            "Epoch 13/15\n",
            "\u001b[1m750/750\u001b[0m \u001b[32m━━━━━━━━━━━━━━━━━━━━\u001b[0m\u001b[37m\u001b[0m \u001b[1m20s\u001b[0m 17ms/step - accuracy: 0.9109 - loss: 0.0534 - val_accuracy: 0.8482 - val_loss: 0.5414 - learning_rate: 4.4933e-04\n",
            "Epoch 14/15\n",
            "\u001b[1m750/750\u001b[0m \u001b[32m━━━━━━━━━━━━━━━━━━━━\u001b[0m\u001b[37m\u001b[0m \u001b[1m14s\u001b[0m 19ms/step - accuracy: 0.9222 - loss: 0.0443 - val_accuracy: 0.8449 - val_loss: 0.4844 - learning_rate: 4.0657e-04\n",
            "Epoch 15/15\n",
            "\u001b[1m750/750\u001b[0m \u001b[32m━━━━━━━━━━━━━━━━━━━━\u001b[0m\u001b[37m\u001b[0m \u001b[1m20s\u001b[0m 18ms/step - accuracy: 0.9175 - loss: 0.0378 - val_accuracy: 0.8502 - val_loss: 0.5447 - learning_rate: 3.6788e-04\n"
          ]
        }
      ]
    },
    {
      "cell_type": "code",
      "source": [
        "# Оцінка моделі\n",
        "test_loss, test_acc = model.evaluate(test_images, test_labels, verbose=2)\n",
        "print(f'\\nТочність на тестових даних: {test_acc}')"
      ],
      "metadata": {
        "colab": {
          "base_uri": "https://localhost:8080/"
        },
        "id": "KMyhTsPA9Qis",
        "outputId": "84a8dd44-89dd-4c32-9590-8773bc7dd885"
      },
      "execution_count": 16,
      "outputs": [
        {
          "output_type": "stream",
          "name": "stdout",
          "text": [
            "313/313 - 2s - 8ms/step - accuracy: 0.8450 - loss: 0.6168\n",
            "\n",
            "Точність на тестових даних: 0.8450000286102295\n"
          ]
        }
      ]
    },
    {
      "cell_type": "code",
      "execution_count": 17,
      "metadata": {
        "id": "d2e672d4-90e8-4703-89d7-b881398a9174"
      },
      "outputs": [],
      "source": [
        "# Функція для побудови графіків\n",
        "def plot_learning_curves(history, title_suffix=\"\"):\n",
        "    fig, (ax1, ax2) = plt.subplots(1, 2, figsize=(12, 4))\n",
        "\n",
        "    # Графік точності\n",
        "    ax1.plot(history.history['accuracy'], label='Тренувальна вибірка')\n",
        "    ax1.plot(history.history['val_accuracy'], label='Валідаційна вибірка')\n",
        "    ax1.set_title(f'Точність моделі {title_suffix}')\n",
        "    ax1.set_ylabel('Точність')\n",
        "    ax1.set_xlabel('Епоха')\n",
        "    ax1.legend()\n",
        "\n",
        "    # Графік втрат\n",
        "    ax2.plot(history.history['loss'], label='Тренувальна вибірка')\n",
        "    ax2.plot(history.history['val_loss'], label='Валідаційна вибірка')\n",
        "    ax2.set_title(f'Втрати моделі {title_suffix}')\n",
        "    ax2.set_ylabel('Втрати')\n",
        "    ax2.set_xlabel('Епоха')\n",
        "    ax2.legend()\n",
        "\n",
        "    plt.tight_layout()\n",
        "    plt.show()"
      ]
    },
    {
      "cell_type": "code",
      "source": [
        "# Побудова графіків для першого етапу навчання\n",
        "plot_learning_curves(history, \"(перший етап)\")"
      ],
      "metadata": {
        "colab": {
          "base_uri": "https://localhost:8080/",
          "height": 384
        },
        "id": "0ZoUMgnA9vTe",
        "outputId": "f0082464-0708-4760-c881-8cb9567cb5d1"
      },
      "execution_count": 18,
      "outputs": [
        {
          "output_type": "display_data",
          "data": {
            "text/plain": [
              "<Figure size 1200x400 with 2 Axes>"
            ],
            "image/png": "[encoded data removed]"
          },
          "metadata": {}
        }
      ]
    },
    {
      "cell_type": "code",
      "source": [
        "# Побудова графіків для етапу тонкого налаштування\n",
        "plot_learning_curves(history_fine, \"(тонке налаштування)\")"
      ],
      "metadata": {
        "colab": {
          "base_uri": "https://localhost:8080/",
          "height": 384
        },
        "id": "4HK-MJnc96q3",
        "outputId": "1905d18e-972a-4038-ddb7-20b1a1f8928b"
      },
      "execution_count": 19,
      "outputs": [
        {
          "output_type": "display_data",
          "data": {
            "text/plain": [
              "<Figure size 1200x400 with 2 Axes>"
            ],
            "image/png": "[encoded data removed]"
          },
          "metadata": {}
        }
      ]
    }
  ]
}