{
  "nbformat": 4,
  "nbformat_minor": 0,
  "metadata": {
    "colab": {
      "provenance": [],
      "authorship_tag": "ABX9TyOyPjGfLXnZc65duEeWaK3G",
      "include_colab_link": true
    },
    "kernelspec": {
      "name": "python3",
      "display_name": "Python 3"
    },
    "language_info": {
      "name": "python"
    }
  },
  "cells": [
    {
      "cell_type": "markdown",
      "metadata": {
        "id": "view-in-github",
        "colab_type": "text"
      },
      "source": [
        "<a href=\"https://colab.research.google.com/github/OlhaYastrebova/goit-ds-hw/blob/main/Hw10.ipynb\" target=\"_parent\"><img src=\"https://colab.research.google.com/assets/colab-badge.svg\" alt=\"Open In Colab\"/></a>"
      ]
    },
    {
      "cell_type": "code",
      "execution_count": null,
      "metadata": {
        "colab": {
          "base_uri": "https://localhost:8080/"
        },
        "id": "QI5BE9UQGQaI",
        "outputId": "9d959262-7da6-42a2-b5b8-ca5c990334ce"
      },
      "outputs": [
        {
          "output_type": "stream",
          "name": "stdout",
          "text": [
            "Collecting scikit-surprise\n",
            "  Downloading scikit_surprise-1.1.4.tar.gz (154 kB)\n",
            "\u001b[2K     \u001b[90m━━━━━━━━━━━━━━━━━━━━━━━━━━━━━━━━━━━━━━━━\u001b[0m \u001b[32m154.4/154.4 kB\u001b[0m \u001b[31m4.0 MB/s\u001b[0m eta \u001b[36m0:00:00\u001b[0m\n",
            "\u001b[?25h  Installing build dependencies ... \u001b[?25l\u001b[?25hdone\n",
            "  Getting requirements to build wheel ... \u001b[?25l\u001b[?25hdone\n",
            "  Preparing metadata (pyproject.toml) ... \u001b[?25l\u001b[?25hdone\n",
            "Requirement already satisfied: joblib>=1.2.0 in /usr/local/lib/python3.10/dist-packages (from scikit-surprise) (1.4.2)\n",
            "Requirement already satisfied: numpy>=1.19.5 in /usr/local/lib/python3.10/dist-packages (from scikit-surprise) (1.26.4)\n",
            "Requirement already satisfied: scipy>=1.6.0 in /usr/local/lib/python3.10/dist-packages (from scikit-surprise) (1.13.1)\n",
            "Building wheels for collected packages: scikit-surprise\n",
            "  Building wheel for scikit-surprise (pyproject.toml) ... \u001b[?25l\u001b[?25hdone\n",
            "  Created wheel for scikit-surprise: filename=scikit_surprise-1.1.4-cp310-cp310-linux_x86_64.whl size=2357283 sha256=38aeba232da1ec72f9d93a670a0c517a8fb1f8d359061f483bd0916cc62ba501\n",
            "  Stored in directory: /root/.cache/pip/wheels/4b/3f/df/6acbf0a40397d9bf3ff97f582cc22fb9ce66adde75bc71fd54\n",
            "Successfully built scikit-surprise\n",
            "Installing collected packages: scikit-surprise\n",
            "Successfully installed scikit-surprise-1.1.4\n",
            "Dataset ml-100k could not be found. Do you want to download it? [Y/n] Y\n",
            "Trying to download dataset from https://files.grouplens.org/datasets/movielens/ml-100k.zip...\n",
            "Done! Dataset ml-100k has been saved to /root/.surprise_data/ml-100k\n"
          ]
        },
        {
          "output_type": "execute_result",
          "data": {
            "text/plain": [
              "<surprise.dataset.DatasetAutoFolds at 0x7b8fca361b70>"
            ]
          },
          "metadata": {},
          "execution_count": 1
        }
      ],
      "source": [
        "!pip install scikit-surprise\n",
        "import surprise\n",
        "from surprise import Dataset, SVD, SVDpp, NMF\n",
        "from surprise.model_selection import GridSearchCV, cross_validate\n",
        "\n",
        "# Завантаження даних\n",
        "data = Dataset.load_builtin('ml-100k')\n",
        "data\n"
      ]
    },
    {
      "cell_type": "code",
      "source": [],
      "metadata": {
        "id": "V4QMYtKqcdZy"
      },
      "execution_count": null,
      "outputs": []
    },
    {
      "cell_type": "code",
      "source": [
        "# Набір параметрів для підбору\n",
        "param_grid_svd = {\n",
        "    'n_factors': [50, 100, 150],\n",
        "    'n_epochs': [20, 30, 40],\n",
        "    'lr_all': [0.002, 0.005],\n",
        "    'reg_all': [0.02, 0.1]\n",
        "}\n",
        "\n",
        "# Пошук найкращих параметрів для кожного алгоритму\n",
        "gs_svd = GridSearchCV(SVD, param_grid_svd, measures=['rmse'], cv=5)\n",
        "gs_svd.fit(data)\n"
      ],
      "metadata": {
        "id": "atdpX2B2KK90"
      },
      "execution_count": null,
      "outputs": []
    },
    {
      "cell_type": "code",
      "source": [
        "# Виведення результатів\n",
        "print(\"Best SVD score: \", gs_svd.best_score['rmse'])\n",
        "print(\"Best SVD parameters: \", gs_svd.best_params['rmse'])"
      ],
      "metadata": {
        "colab": {
          "base_uri": "https://localhost:8080/"
        },
        "id": "Nzeaq0HYYVva",
        "outputId": "f2fbd20f-08e0-4f12-ff34-9d2885cfc138"
      },
      "execution_count": null,
      "outputs": [
        {
          "output_type": "stream",
          "name": "stdout",
          "text": [
            "Best SVD score:  0.9169508790300263\n",
            "Best SVD parameters:  {'n_factors': 150, 'n_epochs': 40, 'lr_all': 0.005, 'reg_all': 0.1}\n"
          ]
        }
      ]
    },
    {
      "cell_type": "code",
      "source": [
        "param_grid_svdpp = {\n",
        "    'n_factors': [20],\n",
        "    'n_epochs': [20],\n",
        "    'lr_all': [0.002],\n",
        "    'reg_all': [0.02]\n",
        "}\n",
        "\n",
        "gs_svdpp = GridSearchCV(SVDpp, param_grid_svdpp, measures=['rmse'], cv=5)\n",
        "gs_svdpp.fit(data)\n",
        "\n",
        "print(\"Best SVD++ score: \", gs_svdpp.best_score['rmse'])\n",
        "print(\"Best SVD++ parameters: \", gs_svdpp.best_params['rmse'])"
      ],
      "metadata": {
        "id": "j9xlXXfRYZsI",
        "colab": {
          "base_uri": "https://localhost:8080/"
        },
        "outputId": "9bb5ac27-8b2f-440a-94ca-1ca75677b8ec"
      },
      "execution_count": null,
      "outputs": [
        {
          "output_type": "stream",
          "name": "stdout",
          "text": [
            "Best SVD++ score:  0.9406952920172081\n",
            "Best SVD++ parameters:  {'n_factors': 20, 'n_epochs': 20, 'lr_all': 0.002, 'reg_all': 0.02}\n"
          ]
        }
      ]
    },
    {
      "cell_type": "code",
      "source": [
        "param_grid_nmf = {\n",
        "    'n_factors': [50],\n",
        "    'n_epochs': [50],\n",
        "    'reg_pu': [0.1],\n",
        "    'reg_qi': [0.1]\n",
        "}\n",
        "\n",
        "gs_nmf = GridSearchCV(NMF, param_grid_nmf, measures=['rmse'], cv=5)\n",
        "gs_nmf.fit(data)\n",
        "\n",
        "print(\"Best NMF score: \", gs_nmf.best_score['rmse'])\n",
        "print(\"Best NMF parameters: \", gs_nmf.best_params['rmse'])\n"
      ],
      "metadata": {
        "colab": {
          "base_uri": "https://localhost:8080/"
        },
        "id": "pKkiDqsJFztp",
        "outputId": "259f04f9-362e-43eb-943f-fe8e7785c370"
      },
      "execution_count": null,
      "outputs": [
        {
          "output_type": "stream",
          "name": "stdout",
          "text": [
            "Best NMF score:  0.9403116242041067\n",
            "Best NMF parameters:  {'n_factors': 50, 'n_epochs': 50, 'reg_pu': 0.1, 'reg_qi': 0.1}\n"
          ]
        }
      ]
    },
    {
      "cell_type": "code",
      "source": [
        "param_grid_nmf = {\n",
        "    'n_factors': [100],\n",
        "    'n_epochs': [100],\n",
        "    'reg_pu': [0.1],\n",
        "    'reg_qi': [0.1]\n",
        "}\n",
        "\n",
        "gs_nmf = GridSearchCV(NMF, param_grid_nmf, measures=['rmse'], cv=5)\n",
        "gs_nmf.fit(data)\n",
        "\n",
        "print(\"Best NMF score: \", gs_nmf.best_score['rmse'])\n",
        "print(\"Best NMF parameters: \", gs_nmf.best_params['rmse'])\n"
      ],
      "metadata": {
        "colab": {
          "base_uri": "https://localhost:8080/"
        },
        "id": "x_RkKtdxGVAz",
        "outputId": "f172cddc-ce6a-4d8b-d265-442743acd56e"
      },
      "execution_count": null,
      "outputs": [
        {
          "output_type": "stream",
          "name": "stdout",
          "text": [
            "Best NMF score:  0.9200549387085248\n",
            "Best NMF parameters:  {'n_factors': 100, 'n_epochs': 100, 'reg_pu': 0.1, 'reg_qi': 0.1}\n"
          ]
        }
      ]
    },
    {
      "cell_type": "code",
      "source": [
        "# Оцінка моделей на основі найкращих параметрів\n",
        "best_svd = gs_svd.best_estimator['rmse']\n",
        "best_svdpp_params = gs_svdpp.best_params['rmse']\n",
        "best_nmf_params = gs_nmf.best_params['rmse']\n",
        "\n",
        "# Створення моделей з найкращими параметрами\n",
        "best_svd = gs_svd.best_estimator['rmse']\n",
        "best_svdpp = SVDpp(**best_svdpp_params)\n",
        "best_nmf = NMF(**best_nmf_params)\n",
        "\n",
        "# Список моделей для оцінки\n",
        "models = [(\"SVD\", best_svd),(\"SVD++\", best_svdpp), (\"NMF\", best_nmf)]\n",
        "\n",
        "# Оцінка кожної моделі за допомогою крос-валідації\n",
        "for name, model in models:\n",
        "    results = cross_validate(model, data, measures=['rmse'], cv=5, verbose=False)\n",
        "    print(f\"{name} mean RMSE: {results['test_rmse'].mean():.4f}\")"
      ],
      "metadata": {
        "id": "dUx1BLC-co6n",
        "colab": {
          "base_uri": "https://localhost:8080/"
        },
        "outputId": "3c086cc0-b2bb-4c34-b9a4-50ae9d44edc9"
      },
      "execution_count": null,
      "outputs": [
        {
          "output_type": "stream",
          "name": "stdout",
          "text": [
            "SVD mean RMSE: 0.9191\n",
            "SVD++ mean RMSE: 0.9412\n",
            "NMF mean RMSE: 0.9206\n"
          ]
        }
      ]
    },
    {
      "cell_type": "markdown",
      "source": [
        "Можна зробити висновок, що алгоритм SVD показує найкращу якість прогнозування з найменшим середнім значенням RMSE, хоча різниця між SVD і NMF є мінімальною. SVD++ демонструє трохи гірші результати у порівнянні з іншими методами.\n",
        "\n",
        "Таким чином, для даного завдання оптимальним вибором буде використання SVD."
      ],
      "metadata": {
        "id": "UEooEDIUFbeN"
      }
    }
  ]
}